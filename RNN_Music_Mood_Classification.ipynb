{
  "nbformat": 4,
  "nbformat_minor": 0,
  "metadata": {
    "colab": {
      "provenance": []
    },
    "kernelspec": {
      "name": "python3",
      "display_name": "Python 3"
    },
    "language_info": {
      "name": "python"
    }
  },
  "cells": [
    {
      "cell_type": "markdown",
      "source": [
        "#Mindy & Meghana - RNN implementation of music mood classification\n",
        "\n",
        "Reference: https://towardsdatascience.com/recurrent-neural-nets-for-audio-classification-81cb62327990"
      ],
      "metadata": {
        "id": "WbKtE_foPfiU"
      }
    },
    {
      "cell_type": "code",
      "source": [
        "from google.colab import drive\n",
        "drive.mount('/content/drive/')"
      ],
      "metadata": {
        "colab": {
          "base_uri": "https://localhost:8080/"
        },
        "id": "BxOMtYvt7Wmq",
        "outputId": "6520bbc3-87b8-4943-c18d-0eefc24490ef"
      },
      "execution_count": null,
      "outputs": [
        {
          "output_type": "stream",
          "name": "stdout",
          "text": [
            "Mounted at /content/drive/\n"
          ]
        }
      ]
    },
    {
      "cell_type": "code",
      "execution_count": null,
      "metadata": {
        "id": "Zl3mOFKH2hw5"
      },
      "outputs": [],
      "source": [
        "import pandas as pd\n",
        "import os\n",
        "import numpy as np\n",
        "import librosa\n",
        "import librosa.display\n",
        "import matplotlib.pyplot as plt\n",
        "from sklearn.model_selection import train_test_split\n",
        "from sklearn.preprocessing import normalize\n",
        "import warnings\n",
        "warnings.filterwarnings('ignore')\n",
        "from sklearn.model_selection import train_test_split\n",
        "import tensorflow\n",
        "from tensorflow.keras.layers import LSTM, Dense"
      ]
    },
    {
      "cell_type": "code",
      "source": [
        "\n",
        "path = '/content/drive/MyDrive/Junior Year 2022-2023/Adv Topics in DS/Final Project/Audio_Song_Actors_01-24.zip (Unzipped Files)'\n",
        "features = []\n",
        "labels = []\n",
        "\n",
        "for subdir, dirs, files in os.walk(path):\n",
        "  for file in files:\n",
        "      try:\n",
        "        #Load librosa array, obtain mfcss, store the file and the mcss information in a new array\n",
        "        X, sample_rate = librosa.load(os.path.join(subdir,file), res_type='kaiser_fast')\n",
        "\n",
        "        X_cut = X[round(0*sample_rate, ndigits=None):round(3*sample_rate, ndigits=None)]\n",
        "        print(X_cut.shape)\n",
        "        data = np.array([librosa.feature.mfcc(y=X_cut, sr=sample_rate, n_mfcc=40)])\n",
        "\n",
        "        #mfccs = librosa.feature.mfcc(y=X, sr=sample_rate, n_mfcc=40)\n",
        "        features.append(data)\n",
        "        labels.append(file[6:8])\n",
        "      # If the file is not valid, skip it\n",
        "      except ValueError:\n",
        "        continue     "
      ],
      "metadata": {
        "id": "E5C3MuqX2vpj"
      },
      "execution_count": null,
      "outputs": []
    },
    {
      "cell_type": "code",
      "source": [
        "sample_rate"
      ],
      "metadata": {
        "colab": {
          "base_uri": "https://localhost:8080/"
        },
        "id": "-tN5jzPUTuiz",
        "outputId": "70935534-c914-43db-ca23-2fa00278bd95"
      },
      "execution_count": null,
      "outputs": [
        {
          "output_type": "execute_result",
          "data": {
            "text/plain": [
              "22050"
            ]
          },
          "metadata": {},
          "execution_count": 22
        }
      ]
    },
    {
      "cell_type": "code",
      "source": [
        "labels = np.array(labels)\n",
        "labels = labels.astype(np.float)"
      ],
      "metadata": {
        "id": "P4TSd8_LeDSK"
      },
      "execution_count": null,
      "outputs": []
    },
    {
      "cell_type": "code",
      "source": [
        "features[600].shape"
      ],
      "metadata": {
        "colab": {
          "base_uri": "https://localhost:8080/"
        },
        "id": "Xj_qS_Vkg7EF",
        "outputId": "f5358a61-2757-4427-e854-eb0c05f8585e"
      },
      "execution_count": null,
      "outputs": [
        {
          "output_type": "execute_result",
          "data": {
            "text/plain": [
              "(1, 40, 130)"
            ]
          },
          "metadata": {},
          "execution_count": 79
        }
      ]
    },
    {
      "cell_type": "code",
      "source": [
        "features = np.squeeze(np.asarray(features))\n",
        "features.shape"
      ],
      "metadata": {
        "colab": {
          "base_uri": "https://localhost:8080/"
        },
        "id": "iyomX6ZWR3sB",
        "outputId": "e37463de-f64d-4abe-c603-91031c42f3ca"
      },
      "execution_count": null,
      "outputs": [
        {
          "output_type": "execute_result",
          "data": {
            "text/plain": [
              "(1012, 40, 130)"
            ]
          },
          "metadata": {},
          "execution_count": 80
        }
      ]
    },
    {
      "cell_type": "code",
      "source": [
        "features[0]"
      ],
      "metadata": {
        "colab": {
          "base_uri": "https://localhost:8080/"
        },
        "id": "oHHzeAo-yjsS",
        "outputId": "ea36127b-7230-4a92-e59d-ca7fbb5c6407"
      },
      "execution_count": null,
      "outputs": [
        {
          "output_type": "execute_result",
          "data": {
            "text/plain": [
              "array([[-755.8538  , -755.8538  , -755.8538  , ..., -383.79575 ,\n",
              "        -348.39743 , -318.94745 ],\n",
              "       [   0.      ,    0.      ,    0.      , ...,   94.980545,\n",
              "         137.93796 ,  160.71823 ],\n",
              "       [   0.      ,    0.      ,    0.      , ...,  -34.938873,\n",
              "          -9.01121 ,   -7.444483],\n",
              "       ...,\n",
              "       [   0.      ,    0.      ,    0.      , ...,   16.898092,\n",
              "          17.05024 ,   14.836027],\n",
              "       [   0.      ,    0.      ,    0.      , ...,   35.917175,\n",
              "          23.834862,   12.881482],\n",
              "       [   0.      ,    0.      ,    0.      , ...,   60.004715,\n",
              "          39.68746 ,   24.819542]], dtype=float32)"
            ]
          },
          "metadata": {},
          "execution_count": 190
        }
      ]
    },
    {
      "cell_type": "code",
      "source": [
        "X = np.array((features-np.min(features))/(np.max(features)-np.min(features)))\n",
        "X = X/np.std(X)\n",
        "y = np.array(labels)"
      ],
      "metadata": {
        "id": "JnMs1dSQesrZ"
      },
      "execution_count": null,
      "outputs": []
    },
    {
      "cell_type": "code",
      "source": [
        "X[0]"
      ],
      "metadata": {
        "colab": {
          "base_uri": "https://localhost:8080/"
        },
        "id": "8uenDkJEyTBV",
        "outputId": "b7b6b4a3-9f29-4cbc-d751-a91a93732ccd"
      },
      "execution_count": null,
      "outputs": [
        {
          "output_type": "execute_result",
          "data": {
            "text/plain": [
              "array([[ 1.8908561,  1.8908561,  1.8908561, ...,  6.291789 ,  6.7105017,\n",
              "         7.0588536],\n",
              "       [10.831561 , 10.831561 , 10.831561 , ..., 11.9550495, 12.463176 ,\n",
              "        12.7326355],\n",
              "       [10.831561 , 10.831561 , 10.831561 , ..., 10.4182825, 10.724971 ,\n",
              "        10.743504 ],\n",
              "       ...,\n",
              "       [10.831561 , 10.831561 , 10.831561 , ..., 11.031443 , 11.033242 ,\n",
              "        11.0070505],\n",
              "       [10.831561 , 10.831561 , 10.831561 , ..., 11.256412 , 11.113494 ,\n",
              "        10.983932 ],\n",
              "       [10.831561 , 10.831561 , 10.831561 , ..., 11.541333 , 11.301009 ,\n",
              "        11.125142 ]], dtype=float32)"
            ]
          },
          "metadata": {},
          "execution_count": 199
        }
      ]
    },
    {
      "cell_type": "code",
      "source": [
        "from sklearn.model_selection import train_test_split\n",
        "\n",
        "#Split twice to get the validation set\n",
        "X_train, X_test, y_train, y_test = train_test_split(X, y, test_size=0.25, random_state=123, stratify=y)\n",
        "X_train, X_val, y_train, y_val = train_test_split(X_train, y_train, test_size=0.25, random_state=123)\n",
        "#Print the shapes\n",
        "X_train.shape, X_test.shape, X_val.shape, len(y_train), len(y_test), len(y_val)"
      ],
      "metadata": {
        "id": "ePAyub-V8fbS",
        "colab": {
          "base_uri": "https://localhost:8080/"
        },
        "outputId": "03b76f2b-fc96-4277-ea3a-902b364a0310"
      },
      "execution_count": null,
      "outputs": [
        {
          "output_type": "execute_result",
          "data": {
            "text/plain": [
              "((569, 40, 130), (253, 40, 130), (190, 40, 130), 569, 253, 190)"
            ]
          },
          "metadata": {},
          "execution_count": 150
        }
      ]
    },
    {
      "cell_type": "markdown",
      "source": [
        "# **RNN **"
      ],
      "metadata": {
        "id": "dzEUVTdb8jO9"
      }
    },
    {
      "cell_type": "code",
      "source": [
        "import keras.models\n",
        "from keras.models import Sequential\n",
        "from keras.layers import Activation, Dense, Dropout\n",
        "\n",
        "input_shape=(40,130)\n",
        "model = keras.Sequential()\n",
        "model.add(LSTM(40,input_shape=input_shape))\n",
        "model.add(Dropout(0.2))\n",
        "model.add(Dense(40, activation='relu'))\n",
        "model.add(Dense(20, activation='relu'))\n",
        "model.add(Dropout(0.4))\n",
        "model.add(Dense(10, activation='relu'))\n",
        "model.add(Dropout(0.4))\n",
        "model.add(Dense(8, activation='softmax'))\n",
        "model.summary()"
      ],
      "metadata": {
        "id": "Xmc7F_Qa5Ng1",
        "colab": {
          "base_uri": "https://localhost:8080/"
        },
        "outputId": "e023602f-7459-4ee6-9f42-1f7ac45226c3"
      },
      "execution_count": null,
      "outputs": [
        {
          "output_type": "stream",
          "name": "stdout",
          "text": [
            "Model: \"sequential_2\"\n",
            "_________________________________________________________________\n",
            " Layer (type)                Output Shape              Param #   \n",
            "=================================================================\n",
            " lstm_2 (LSTM)               (None, 40)                27360     \n",
            "                                                                 \n",
            " dropout_6 (Dropout)         (None, 40)                0         \n",
            "                                                                 \n",
            " dense_8 (Dense)             (None, 40)                1640      \n",
            "                                                                 \n",
            " dense_9 (Dense)             (None, 20)                820       \n",
            "                                                                 \n",
            " dropout_7 (Dropout)         (None, 20)                0         \n",
            "                                                                 \n",
            " dense_10 (Dense)            (None, 10)                210       \n",
            "                                                                 \n",
            " dropout_8 (Dropout)         (None, 10)                0         \n",
            "                                                                 \n",
            " dense_11 (Dense)            (None, 8)                 88        \n",
            "                                                                 \n",
            "=================================================================\n",
            "Total params: 30,118\n",
            "Trainable params: 30,118\n",
            "Non-trainable params: 0\n",
            "_________________________________________________________________\n"
          ]
        }
      ]
    },
    {
      "cell_type": "markdown",
      "source": [
        "Model Compiling"
      ],
      "metadata": {
        "id": "g35igqQK6CHn"
      }
    },
    {
      "cell_type": "code",
      "source": [
        "model.compile(optimizer='adam',loss='SparseCategoricalCrossentropy',metrics=['acc'])"
      ],
      "metadata": {
        "id": "iTVDSUc25Nj0"
      },
      "execution_count": null,
      "outputs": []
    },
    {
      "cell_type": "markdown",
      "source": [
        "Model Fitting"
      ],
      "metadata": {
        "id": "1mNyfeIv6F6Z"
      }
    },
    {
      "cell_type": "code",
      "source": [
        "history = model.fit(X_train, y_train, epochs=500, batch_size=72, \n",
        "                    validation_data=(X_val, y_val), shuffle=False)"
      ],
      "metadata": {
        "id": "Ug044Z1P5W-_",
        "colab": {
          "base_uri": "https://localhost:8080/"
        },
        "outputId": "a050e795-fb88-4700-ae14-2e8715d6892f"
      },
      "execution_count": null,
      "outputs": [
        {
          "output_type": "stream",
          "name": "stdout",
          "text": [
            "Epoch 1/500\n",
            "8/8 [==============================] - 6s 168ms/step - loss: 2.0747 - acc: 0.1125 - val_loss: 2.0653 - val_acc: 0.2053\n",
            "Epoch 2/500\n",
            "8/8 [==============================] - 0s 43ms/step - loss: 2.0594 - acc: 0.1793 - val_loss: 2.0497 - val_acc: 0.1895\n",
            "Epoch 3/500\n",
            "8/8 [==============================] - 0s 48ms/step - loss: 2.0567 - acc: 0.1652 - val_loss: 2.0367 - val_acc: 0.2105\n",
            "Epoch 4/500\n",
            "8/8 [==============================] - 0s 42ms/step - loss: 2.0377 - acc: 0.1986 - val_loss: 2.0261 - val_acc: 0.2263\n",
            "Epoch 5/500\n",
            "8/8 [==============================] - 0s 44ms/step - loss: 2.0400 - acc: 0.1722 - val_loss: 2.0130 - val_acc: 0.2368\n",
            "Epoch 6/500\n",
            "8/8 [==============================] - 0s 46ms/step - loss: 2.0124 - acc: 0.2039 - val_loss: 1.9916 - val_acc: 0.2474\n",
            "Epoch 7/500\n",
            "8/8 [==============================] - 0s 41ms/step - loss: 1.9969 - acc: 0.2302 - val_loss: 1.9683 - val_acc: 0.2579\n",
            "Epoch 8/500\n",
            "8/8 [==============================] - 0s 39ms/step - loss: 1.9975 - acc: 0.2021 - val_loss: 1.9491 - val_acc: 0.2895\n",
            "Epoch 9/500\n",
            "8/8 [==============================] - 0s 50ms/step - loss: 1.9691 - acc: 0.2302 - val_loss: 1.9339 - val_acc: 0.2842\n",
            "Epoch 10/500\n",
            "8/8 [==============================] - 0s 43ms/step - loss: 1.9601 - acc: 0.2091 - val_loss: 1.9168 - val_acc: 0.3000\n",
            "Epoch 11/500\n",
            "8/8 [==============================] - 0s 45ms/step - loss: 1.9385 - acc: 0.2250 - val_loss: 1.8826 - val_acc: 0.3158\n",
            "Epoch 12/500\n",
            "8/8 [==============================] - 0s 45ms/step - loss: 1.9150 - acc: 0.2513 - val_loss: 1.8542 - val_acc: 0.3263\n",
            "Epoch 13/500\n",
            "8/8 [==============================] - 0s 45ms/step - loss: 1.9047 - acc: 0.2109 - val_loss: 1.8374 - val_acc: 0.3316\n",
            "Epoch 14/500\n",
            "8/8 [==============================] - 0s 47ms/step - loss: 1.8387 - acc: 0.2724 - val_loss: 1.7986 - val_acc: 0.3526\n",
            "Epoch 15/500\n",
            "8/8 [==============================] - 0s 54ms/step - loss: 1.8267 - acc: 0.2759 - val_loss: 1.7444 - val_acc: 0.3526\n",
            "Epoch 16/500\n",
            "8/8 [==============================] - 0s 52ms/step - loss: 1.8172 - acc: 0.2566 - val_loss: 1.7597 - val_acc: 0.3158\n",
            "Epoch 17/500\n",
            "8/8 [==============================] - 0s 52ms/step - loss: 1.7702 - acc: 0.2707 - val_loss: 1.6786 - val_acc: 0.4053\n",
            "Epoch 18/500\n",
            "8/8 [==============================] - 0s 51ms/step - loss: 1.7198 - acc: 0.3005 - val_loss: 1.6017 - val_acc: 0.3737\n",
            "Epoch 19/500\n",
            "8/8 [==============================] - 0s 48ms/step - loss: 1.6958 - acc: 0.3181 - val_loss: 1.5973 - val_acc: 0.4053\n",
            "Epoch 20/500\n",
            "8/8 [==============================] - 0s 43ms/step - loss: 1.6803 - acc: 0.3251 - val_loss: 1.5430 - val_acc: 0.4368\n",
            "Epoch 21/500\n",
            "8/8 [==============================] - 0s 44ms/step - loss: 1.6459 - acc: 0.3216 - val_loss: 1.5313 - val_acc: 0.4105\n",
            "Epoch 22/500\n",
            "8/8 [==============================] - 0s 50ms/step - loss: 1.5288 - acc: 0.3866 - val_loss: 1.4202 - val_acc: 0.4158\n",
            "Epoch 23/500\n",
            "8/8 [==============================] - 0s 43ms/step - loss: 1.5389 - acc: 0.3937 - val_loss: 1.4180 - val_acc: 0.4474\n",
            "Epoch 24/500\n",
            "8/8 [==============================] - 0s 52ms/step - loss: 1.5309 - acc: 0.3427 - val_loss: 1.3902 - val_acc: 0.4368\n",
            "Epoch 25/500\n",
            "8/8 [==============================] - 0s 59ms/step - loss: 1.5184 - acc: 0.3866 - val_loss: 1.3594 - val_acc: 0.4526\n",
            "Epoch 26/500\n",
            "8/8 [==============================] - 0s 48ms/step - loss: 1.4699 - acc: 0.4288 - val_loss: 1.3513 - val_acc: 0.4632\n",
            "Epoch 27/500\n",
            "8/8 [==============================] - 0s 52ms/step - loss: 1.4014 - acc: 0.4218 - val_loss: 1.2968 - val_acc: 0.4789\n",
            "Epoch 28/500\n",
            "8/8 [==============================] - 0s 49ms/step - loss: 1.4438 - acc: 0.3814 - val_loss: 1.2779 - val_acc: 0.4895\n",
            "Epoch 29/500\n",
            "8/8 [==============================] - 0s 50ms/step - loss: 1.3910 - acc: 0.4253 - val_loss: 1.2905 - val_acc: 0.4737\n",
            "Epoch 30/500\n",
            "8/8 [==============================] - 0s 60ms/step - loss: 1.3522 - acc: 0.4341 - val_loss: 1.2789 - val_acc: 0.4947\n",
            "Epoch 31/500\n",
            "8/8 [==============================] - 0s 46ms/step - loss: 1.3239 - acc: 0.4464 - val_loss: 1.2040 - val_acc: 0.5105\n",
            "Epoch 32/500\n",
            "8/8 [==============================] - 0s 47ms/step - loss: 1.3334 - acc: 0.4236 - val_loss: 1.2133 - val_acc: 0.5105\n",
            "Epoch 33/500\n",
            "8/8 [==============================] - 0s 51ms/step - loss: 1.2347 - acc: 0.4552 - val_loss: 1.1867 - val_acc: 0.5000\n",
            "Epoch 34/500\n",
            "8/8 [==============================] - 0s 45ms/step - loss: 1.3046 - acc: 0.4394 - val_loss: 1.1972 - val_acc: 0.5000\n",
            "Epoch 35/500\n",
            "8/8 [==============================] - 0s 48ms/step - loss: 1.2362 - acc: 0.4710 - val_loss: 1.1622 - val_acc: 0.5158\n",
            "Epoch 36/500\n",
            "8/8 [==============================] - 0s 47ms/step - loss: 1.1687 - acc: 0.4833 - val_loss: 1.1302 - val_acc: 0.4895\n",
            "Epoch 37/500\n",
            "8/8 [==============================] - 0s 49ms/step - loss: 1.1958 - acc: 0.4692 - val_loss: 1.1521 - val_acc: 0.4842\n",
            "Epoch 38/500\n",
            "8/8 [==============================] - 0s 45ms/step - loss: 1.2188 - acc: 0.4728 - val_loss: 1.1200 - val_acc: 0.5211\n",
            "Epoch 39/500\n",
            "8/8 [==============================] - 0s 43ms/step - loss: 1.1834 - acc: 0.4974 - val_loss: 1.0901 - val_acc: 0.5158\n",
            "Epoch 40/500\n",
            "8/8 [==============================] - 0s 48ms/step - loss: 1.1592 - acc: 0.4974 - val_loss: 1.0998 - val_acc: 0.5000\n",
            "Epoch 41/500\n",
            "8/8 [==============================] - 0s 47ms/step - loss: 1.1356 - acc: 0.4780 - val_loss: 1.0561 - val_acc: 0.5474\n",
            "Epoch 42/500\n",
            "8/8 [==============================] - 0s 45ms/step - loss: 1.1113 - acc: 0.5009 - val_loss: 1.0498 - val_acc: 0.5474\n",
            "Epoch 43/500\n",
            "8/8 [==============================] - 0s 53ms/step - loss: 1.1241 - acc: 0.5167 - val_loss: 1.1036 - val_acc: 0.5105\n",
            "Epoch 44/500\n",
            "8/8 [==============================] - 0s 42ms/step - loss: 1.0561 - acc: 0.5395 - val_loss: 1.0829 - val_acc: 0.5632\n",
            "Epoch 45/500\n",
            "8/8 [==============================] - 0s 40ms/step - loss: 1.0317 - acc: 0.5712 - val_loss: 1.1482 - val_acc: 0.4632\n",
            "Epoch 46/500\n",
            "8/8 [==============================] - 0s 36ms/step - loss: 1.1253 - acc: 0.5149 - val_loss: 1.0480 - val_acc: 0.5474\n",
            "Epoch 47/500\n",
            "8/8 [==============================] - 0s 41ms/step - loss: 1.0857 - acc: 0.5360 - val_loss: 1.0708 - val_acc: 0.5684\n",
            "Epoch 48/500\n",
            "8/8 [==============================] - 0s 38ms/step - loss: 1.0454 - acc: 0.5712 - val_loss: 1.0578 - val_acc: 0.5421\n",
            "Epoch 49/500\n",
            "8/8 [==============================] - 0s 37ms/step - loss: 1.0282 - acc: 0.5747 - val_loss: 1.0227 - val_acc: 0.5842\n",
            "Epoch 50/500\n",
            "8/8 [==============================] - 0s 39ms/step - loss: 0.9863 - acc: 0.6011 - val_loss: 1.0214 - val_acc: 0.5895\n",
            "Epoch 51/500\n",
            "8/8 [==============================] - 0s 39ms/step - loss: 1.0463 - acc: 0.5554 - val_loss: 0.9616 - val_acc: 0.6526\n",
            "Epoch 52/500\n",
            "8/8 [==============================] - 0s 37ms/step - loss: 1.0413 - acc: 0.5729 - val_loss: 0.9245 - val_acc: 0.6474\n",
            "Epoch 53/500\n",
            "8/8 [==============================] - 0s 35ms/step - loss: 0.9199 - acc: 0.6239 - val_loss: 0.9393 - val_acc: 0.6105\n",
            "Epoch 54/500\n",
            "8/8 [==============================] - 0s 38ms/step - loss: 0.9699 - acc: 0.5993 - val_loss: 0.9332 - val_acc: 0.6368\n",
            "Epoch 55/500\n",
            "8/8 [==============================] - 0s 37ms/step - loss: 0.9517 - acc: 0.5958 - val_loss: 0.9027 - val_acc: 0.6579\n",
            "Epoch 56/500\n",
            "8/8 [==============================] - 0s 38ms/step - loss: 0.9317 - acc: 0.6274 - val_loss: 0.9222 - val_acc: 0.6368\n",
            "Epoch 57/500\n",
            "8/8 [==============================] - 0s 40ms/step - loss: 0.8682 - acc: 0.6344 - val_loss: 0.9450 - val_acc: 0.6263\n",
            "Epoch 58/500\n",
            "8/8 [==============================] - 0s 39ms/step - loss: 0.8069 - acc: 0.6573 - val_loss: 0.9632 - val_acc: 0.6368\n",
            "Epoch 59/500\n",
            "8/8 [==============================] - 0s 38ms/step - loss: 0.8703 - acc: 0.6292 - val_loss: 1.0480 - val_acc: 0.6000\n",
            "Epoch 60/500\n",
            "8/8 [==============================] - 0s 36ms/step - loss: 0.9594 - acc: 0.5940 - val_loss: 0.9186 - val_acc: 0.6263\n",
            "Epoch 61/500\n",
            "8/8 [==============================] - 0s 38ms/step - loss: 0.9230 - acc: 0.6098 - val_loss: 0.9332 - val_acc: 0.6474\n",
            "Epoch 62/500\n",
            "8/8 [==============================] - 0s 37ms/step - loss: 0.9171 - acc: 0.6134 - val_loss: 0.9621 - val_acc: 0.6158\n",
            "Epoch 63/500\n",
            "8/8 [==============================] - 0s 39ms/step - loss: 0.9222 - acc: 0.6239 - val_loss: 1.0305 - val_acc: 0.6158\n",
            "Epoch 64/500\n",
            "8/8 [==============================] - 0s 41ms/step - loss: 0.8565 - acc: 0.6450 - val_loss: 0.9414 - val_acc: 0.6211\n",
            "Epoch 65/500\n",
            "8/8 [==============================] - 0s 38ms/step - loss: 0.8926 - acc: 0.6274 - val_loss: 0.9008 - val_acc: 0.6842\n",
            "Epoch 66/500\n",
            "8/8 [==============================] - 0s 37ms/step - loss: 0.8259 - acc: 0.6573 - val_loss: 0.8936 - val_acc: 0.6526\n",
            "Epoch 67/500\n",
            "8/8 [==============================] - 0s 39ms/step - loss: 0.7747 - acc: 0.6801 - val_loss: 0.9165 - val_acc: 0.6579\n",
            "Epoch 68/500\n",
            "8/8 [==============================] - 0s 37ms/step - loss: 0.8050 - acc: 0.6678 - val_loss: 0.9942 - val_acc: 0.6526\n",
            "Epoch 69/500\n",
            "8/8 [==============================] - 0s 39ms/step - loss: 0.8252 - acc: 0.6591 - val_loss: 0.9740 - val_acc: 0.6368\n",
            "Epoch 70/500\n",
            "8/8 [==============================] - 0s 39ms/step - loss: 0.7791 - acc: 0.6819 - val_loss: 0.9359 - val_acc: 0.6579\n",
            "Epoch 71/500\n",
            "8/8 [==============================] - 0s 41ms/step - loss: 0.7789 - acc: 0.6854 - val_loss: 0.9672 - val_acc: 0.6684\n",
            "Epoch 72/500\n",
            "8/8 [==============================] - 0s 38ms/step - loss: 0.7739 - acc: 0.6907 - val_loss: 0.9804 - val_acc: 0.6474\n",
            "Epoch 73/500\n",
            "8/8 [==============================] - 0s 39ms/step - loss: 0.7315 - acc: 0.6977 - val_loss: 0.9244 - val_acc: 0.6737\n",
            "Epoch 74/500\n",
            "8/8 [==============================] - 0s 39ms/step - loss: 0.7602 - acc: 0.7030 - val_loss: 0.9404 - val_acc: 0.6474\n",
            "Epoch 75/500\n",
            "8/8 [==============================] - 0s 38ms/step - loss: 0.7614 - acc: 0.6872 - val_loss: 0.9105 - val_acc: 0.6579\n",
            "Epoch 76/500\n",
            "8/8 [==============================] - 0s 38ms/step - loss: 0.6840 - acc: 0.7170 - val_loss: 0.8920 - val_acc: 0.6684\n",
            "Epoch 77/500\n",
            "8/8 [==============================] - 0s 35ms/step - loss: 0.7609 - acc: 0.6678 - val_loss: 0.9050 - val_acc: 0.6789\n",
            "Epoch 78/500\n",
            "8/8 [==============================] - 0s 38ms/step - loss: 0.7409 - acc: 0.6837 - val_loss: 0.8951 - val_acc: 0.6895\n",
            "Epoch 79/500\n",
            "8/8 [==============================] - 0s 38ms/step - loss: 0.6995 - acc: 0.6942 - val_loss: 0.8637 - val_acc: 0.6789\n",
            "Epoch 80/500\n",
            "8/8 [==============================] - 0s 38ms/step - loss: 0.7290 - acc: 0.6819 - val_loss: 1.0781 - val_acc: 0.6737\n",
            "Epoch 81/500\n",
            "8/8 [==============================] - 0s 40ms/step - loss: 0.7013 - acc: 0.7118 - val_loss: 0.9009 - val_acc: 0.6842\n",
            "Epoch 82/500\n",
            "8/8 [==============================] - 0s 41ms/step - loss: 0.6858 - acc: 0.7083 - val_loss: 0.8967 - val_acc: 0.7000\n",
            "Epoch 83/500\n",
            "8/8 [==============================] - 0s 38ms/step - loss: 0.6344 - acc: 0.7206 - val_loss: 0.9504 - val_acc: 0.6842\n",
            "Epoch 84/500\n",
            "8/8 [==============================] - 0s 39ms/step - loss: 0.7262 - acc: 0.6819 - val_loss: 1.0270 - val_acc: 0.6579\n",
            "Epoch 85/500\n",
            "8/8 [==============================] - 0s 36ms/step - loss: 0.7001 - acc: 0.6977 - val_loss: 0.8722 - val_acc: 0.7211\n",
            "Epoch 86/500\n",
            "8/8 [==============================] - 0s 45ms/step - loss: 0.6760 - acc: 0.7030 - val_loss: 0.8800 - val_acc: 0.7105\n",
            "Epoch 87/500\n",
            "8/8 [==============================] - 0s 52ms/step - loss: 0.6284 - acc: 0.7223 - val_loss: 0.8898 - val_acc: 0.6947\n",
            "Epoch 88/500\n",
            "8/8 [==============================] - 0s 51ms/step - loss: 0.6209 - acc: 0.7329 - val_loss: 0.9314 - val_acc: 0.7000\n",
            "Epoch 89/500\n",
            "8/8 [==============================] - 0s 60ms/step - loss: 0.7001 - acc: 0.7188 - val_loss: 1.1192 - val_acc: 0.6316\n",
            "Epoch 90/500\n",
            "8/8 [==============================] - 0s 43ms/step - loss: 0.7527 - acc: 0.6837 - val_loss: 0.9059 - val_acc: 0.6947\n",
            "Epoch 91/500\n",
            "8/8 [==============================] - 0s 42ms/step - loss: 0.7622 - acc: 0.6889 - val_loss: 1.1009 - val_acc: 0.6368\n",
            "Epoch 92/500\n",
            "8/8 [==============================] - 0s 49ms/step - loss: 0.7296 - acc: 0.6872 - val_loss: 1.0057 - val_acc: 0.6632\n",
            "Epoch 93/500\n",
            "8/8 [==============================] - 0s 50ms/step - loss: 0.7018 - acc: 0.7241 - val_loss: 0.9026 - val_acc: 0.7158\n",
            "Epoch 94/500\n",
            "8/8 [==============================] - 0s 54ms/step - loss: 0.6471 - acc: 0.7346 - val_loss: 0.8896 - val_acc: 0.6895\n",
            "Epoch 95/500\n",
            "8/8 [==============================] - 0s 50ms/step - loss: 0.6532 - acc: 0.7100 - val_loss: 0.9819 - val_acc: 0.6895\n",
            "Epoch 96/500\n",
            "8/8 [==============================] - 0s 54ms/step - loss: 0.5711 - acc: 0.7680 - val_loss: 0.9780 - val_acc: 0.6947\n",
            "Epoch 97/500\n",
            "8/8 [==============================] - 1s 72ms/step - loss: 0.5857 - acc: 0.7610 - val_loss: 0.9071 - val_acc: 0.7263\n",
            "Epoch 98/500\n",
            "8/8 [==============================] - 0s 53ms/step - loss: 0.5849 - acc: 0.7522 - val_loss: 0.8983 - val_acc: 0.7474\n",
            "Epoch 99/500\n",
            "8/8 [==============================] - 0s 50ms/step - loss: 0.5922 - acc: 0.7487 - val_loss: 0.9405 - val_acc: 0.7421\n",
            "Epoch 100/500\n",
            "8/8 [==============================] - 0s 49ms/step - loss: 0.5403 - acc: 0.7680 - val_loss: 1.0527 - val_acc: 0.7105\n",
            "Epoch 101/500\n",
            "8/8 [==============================] - 0s 52ms/step - loss: 0.5639 - acc: 0.7557 - val_loss: 1.1371 - val_acc: 0.6895\n",
            "Epoch 102/500\n",
            "8/8 [==============================] - 0s 54ms/step - loss: 0.6468 - acc: 0.7047 - val_loss: 1.0711 - val_acc: 0.7158\n",
            "Epoch 103/500\n",
            "8/8 [==============================] - 0s 50ms/step - loss: 0.5145 - acc: 0.8049 - val_loss: 1.1459 - val_acc: 0.7000\n",
            "Epoch 104/500\n",
            "8/8 [==============================] - 0s 49ms/step - loss: 0.5666 - acc: 0.7592 - val_loss: 1.0960 - val_acc: 0.6789\n",
            "Epoch 105/500\n",
            "8/8 [==============================] - 0s 42ms/step - loss: 0.5407 - acc: 0.7821 - val_loss: 1.0747 - val_acc: 0.6895\n",
            "Epoch 106/500\n",
            "8/8 [==============================] - 0s 40ms/step - loss: 0.5684 - acc: 0.7645 - val_loss: 0.9910 - val_acc: 0.7263\n",
            "Epoch 107/500\n",
            "8/8 [==============================] - 0s 40ms/step - loss: 0.5287 - acc: 0.7786 - val_loss: 1.1694 - val_acc: 0.7105\n",
            "Epoch 108/500\n",
            "8/8 [==============================] - 0s 42ms/step - loss: 0.5870 - acc: 0.7715 - val_loss: 1.1912 - val_acc: 0.7053\n",
            "Epoch 109/500\n",
            "8/8 [==============================] - 0s 38ms/step - loss: 0.5955 - acc: 0.7786 - val_loss: 1.0511 - val_acc: 0.6842\n",
            "Epoch 110/500\n",
            "8/8 [==============================] - 0s 39ms/step - loss: 0.5318 - acc: 0.7750 - val_loss: 1.0313 - val_acc: 0.7211\n",
            "Epoch 111/500\n",
            "8/8 [==============================] - 0s 40ms/step - loss: 0.5002 - acc: 0.7909 - val_loss: 1.0677 - val_acc: 0.7158\n",
            "Epoch 112/500\n",
            "8/8 [==============================] - 0s 39ms/step - loss: 0.5150 - acc: 0.7821 - val_loss: 1.1501 - val_acc: 0.7000\n",
            "Epoch 113/500\n",
            "8/8 [==============================] - 0s 39ms/step - loss: 0.5634 - acc: 0.7399 - val_loss: 0.9833 - val_acc: 0.7211\n",
            "Epoch 114/500\n",
            "8/8 [==============================] - 0s 37ms/step - loss: 0.5851 - acc: 0.7381 - val_loss: 1.1752 - val_acc: 0.6789\n",
            "Epoch 115/500\n",
            "8/8 [==============================] - 0s 42ms/step - loss: 0.5249 - acc: 0.7821 - val_loss: 1.2653 - val_acc: 0.7000\n",
            "Epoch 116/500\n",
            "8/8 [==============================] - 0s 38ms/step - loss: 0.5245 - acc: 0.7856 - val_loss: 1.1821 - val_acc: 0.7211\n",
            "Epoch 117/500\n",
            "8/8 [==============================] - 0s 37ms/step - loss: 0.5085 - acc: 0.7821 - val_loss: 1.2186 - val_acc: 0.7211\n",
            "Epoch 118/500\n",
            "8/8 [==============================] - 0s 38ms/step - loss: 0.5223 - acc: 0.8067 - val_loss: 1.0620 - val_acc: 0.7158\n",
            "Epoch 119/500\n",
            "8/8 [==============================] - 0s 38ms/step - loss: 0.5381 - acc: 0.7715 - val_loss: 1.1741 - val_acc: 0.7053\n",
            "Epoch 120/500\n",
            "8/8 [==============================] - 0s 38ms/step - loss: 0.5863 - acc: 0.7610 - val_loss: 1.4373 - val_acc: 0.6632\n",
            "Epoch 121/500\n",
            "8/8 [==============================] - 0s 38ms/step - loss: 0.7045 - acc: 0.7223 - val_loss: 0.9956 - val_acc: 0.7105\n",
            "Epoch 122/500\n",
            "8/8 [==============================] - 0s 37ms/step - loss: 0.5846 - acc: 0.7469 - val_loss: 1.0614 - val_acc: 0.6842\n",
            "Epoch 123/500\n",
            "8/8 [==============================] - 0s 38ms/step - loss: 0.5358 - acc: 0.7891 - val_loss: 1.1058 - val_acc: 0.7000\n",
            "Epoch 124/500\n",
            "8/8 [==============================] - 0s 36ms/step - loss: 0.5142 - acc: 0.7786 - val_loss: 1.0607 - val_acc: 0.6789\n",
            "Epoch 125/500\n",
            "8/8 [==============================] - 0s 39ms/step - loss: 0.6045 - acc: 0.7452 - val_loss: 1.2942 - val_acc: 0.6789\n",
            "Epoch 126/500\n",
            "8/8 [==============================] - 0s 39ms/step - loss: 0.5098 - acc: 0.7996 - val_loss: 1.2129 - val_acc: 0.6842\n",
            "Epoch 127/500\n",
            "8/8 [==============================] - 0s 37ms/step - loss: 0.5733 - acc: 0.7873 - val_loss: 1.1438 - val_acc: 0.6947\n",
            "Epoch 128/500\n",
            "8/8 [==============================] - 0s 39ms/step - loss: 0.5353 - acc: 0.7768 - val_loss: 1.1968 - val_acc: 0.6947\n",
            "Epoch 129/500\n",
            "8/8 [==============================] - 0s 38ms/step - loss: 0.5190 - acc: 0.7961 - val_loss: 1.2334 - val_acc: 0.7000\n",
            "Epoch 130/500\n",
            "8/8 [==============================] - 0s 38ms/step - loss: 0.4205 - acc: 0.8313 - val_loss: 1.3108 - val_acc: 0.6895\n",
            "Epoch 131/500\n",
            "8/8 [==============================] - 0s 40ms/step - loss: 0.4831 - acc: 0.8102 - val_loss: 1.3323 - val_acc: 0.6895\n",
            "Epoch 132/500\n",
            "8/8 [==============================] - 0s 38ms/step - loss: 0.5129 - acc: 0.7926 - val_loss: 1.3465 - val_acc: 0.7053\n",
            "Epoch 133/500\n",
            "8/8 [==============================] - 0s 39ms/step - loss: 0.4750 - acc: 0.7944 - val_loss: 1.4938 - val_acc: 0.6789\n",
            "Epoch 134/500\n",
            "8/8 [==============================] - 0s 39ms/step - loss: 0.5037 - acc: 0.8014 - val_loss: 1.3553 - val_acc: 0.6947\n",
            "Epoch 135/500\n",
            "8/8 [==============================] - 0s 40ms/step - loss: 0.4444 - acc: 0.8049 - val_loss: 1.4388 - val_acc: 0.7053\n",
            "Epoch 136/500\n",
            "8/8 [==============================] - 0s 40ms/step - loss: 0.4367 - acc: 0.8260 - val_loss: 1.5265 - val_acc: 0.6684\n",
            "Epoch 137/500\n",
            "8/8 [==============================] - 0s 39ms/step - loss: 0.4995 - acc: 0.7996 - val_loss: 1.4633 - val_acc: 0.6947\n",
            "Epoch 138/500\n",
            "8/8 [==============================] - 0s 40ms/step - loss: 0.4359 - acc: 0.8207 - val_loss: 1.1716 - val_acc: 0.7105\n",
            "Epoch 139/500\n",
            "8/8 [==============================] - 0s 37ms/step - loss: 0.4831 - acc: 0.8084 - val_loss: 1.3197 - val_acc: 0.6895\n",
            "Epoch 140/500\n",
            "8/8 [==============================] - 0s 37ms/step - loss: 0.4126 - acc: 0.8295 - val_loss: 1.3967 - val_acc: 0.6789\n",
            "Epoch 141/500\n",
            "8/8 [==============================] - 0s 37ms/step - loss: 0.4378 - acc: 0.8260 - val_loss: 1.4884 - val_acc: 0.6947\n",
            "Epoch 142/500\n",
            "8/8 [==============================] - 0s 42ms/step - loss: 0.4301 - acc: 0.8295 - val_loss: 1.4757 - val_acc: 0.7105\n",
            "Epoch 143/500\n",
            "8/8 [==============================] - 0s 37ms/step - loss: 0.4311 - acc: 0.8243 - val_loss: 1.6069 - val_acc: 0.6789\n",
            "Epoch 144/500\n",
            "8/8 [==============================] - 0s 39ms/step - loss: 0.4109 - acc: 0.8278 - val_loss: 1.5907 - val_acc: 0.7105\n",
            "Epoch 145/500\n",
            "8/8 [==============================] - 0s 39ms/step - loss: 0.4469 - acc: 0.8260 - val_loss: 1.3821 - val_acc: 0.7211\n",
            "Epoch 146/500\n",
            "8/8 [==============================] - 0s 38ms/step - loss: 0.4011 - acc: 0.8330 - val_loss: 1.3935 - val_acc: 0.7053\n",
            "Epoch 147/500\n",
            "8/8 [==============================] - 0s 37ms/step - loss: 0.4200 - acc: 0.8243 - val_loss: 1.5935 - val_acc: 0.7158\n",
            "Epoch 148/500\n",
            "8/8 [==============================] - 0s 37ms/step - loss: 0.3955 - acc: 0.8436 - val_loss: 1.5218 - val_acc: 0.7211\n",
            "Epoch 149/500\n",
            "8/8 [==============================] - 0s 40ms/step - loss: 0.4120 - acc: 0.8330 - val_loss: 1.4256 - val_acc: 0.7105\n",
            "Epoch 150/500\n",
            "8/8 [==============================] - 0s 36ms/step - loss: 0.4061 - acc: 0.8313 - val_loss: 1.6187 - val_acc: 0.7000\n",
            "Epoch 151/500\n",
            "8/8 [==============================] - 0s 42ms/step - loss: 0.3621 - acc: 0.8541 - val_loss: 1.6275 - val_acc: 0.7316\n",
            "Epoch 152/500\n",
            "8/8 [==============================] - 0s 38ms/step - loss: 0.4505 - acc: 0.8313 - val_loss: 1.6695 - val_acc: 0.7158\n",
            "Epoch 153/500\n",
            "8/8 [==============================] - 0s 39ms/step - loss: 0.4058 - acc: 0.8418 - val_loss: 1.4240 - val_acc: 0.7000\n",
            "Epoch 154/500\n",
            "8/8 [==============================] - 0s 37ms/step - loss: 0.4628 - acc: 0.8207 - val_loss: 1.6077 - val_acc: 0.7000\n",
            "Epoch 155/500\n",
            "8/8 [==============================] - 0s 38ms/step - loss: 0.3833 - acc: 0.8471 - val_loss: 1.3141 - val_acc: 0.7105\n",
            "Epoch 156/500\n",
            "8/8 [==============================] - 0s 38ms/step - loss: 0.4847 - acc: 0.7944 - val_loss: 1.4562 - val_acc: 0.7000\n",
            "Epoch 157/500\n",
            "8/8 [==============================] - 0s 37ms/step - loss: 0.4108 - acc: 0.8330 - val_loss: 1.3167 - val_acc: 0.7263\n",
            "Epoch 158/500\n",
            "8/8 [==============================] - 0s 38ms/step - loss: 0.4265 - acc: 0.8137 - val_loss: 1.5137 - val_acc: 0.7263\n",
            "Epoch 159/500\n",
            "8/8 [==============================] - 0s 39ms/step - loss: 0.3537 - acc: 0.8436 - val_loss: 1.6002 - val_acc: 0.7211\n",
            "Epoch 160/500\n",
            "8/8 [==============================] - 0s 38ms/step - loss: 0.3920 - acc: 0.8541 - val_loss: 1.8459 - val_acc: 0.7000\n",
            "Epoch 161/500\n",
            "8/8 [==============================] - 0s 38ms/step - loss: 0.3697 - acc: 0.8489 - val_loss: 1.5978 - val_acc: 0.7158\n",
            "Epoch 162/500\n",
            "8/8 [==============================] - 0s 39ms/step - loss: 0.3936 - acc: 0.8330 - val_loss: 1.7227 - val_acc: 0.7263\n",
            "Epoch 163/500\n",
            "8/8 [==============================] - 0s 37ms/step - loss: 0.4326 - acc: 0.8172 - val_loss: 1.7741 - val_acc: 0.6947\n",
            "Epoch 164/500\n",
            "8/8 [==============================] - 0s 37ms/step - loss: 0.3994 - acc: 0.8260 - val_loss: 1.6867 - val_acc: 0.6947\n",
            "Epoch 165/500\n",
            "8/8 [==============================] - 0s 37ms/step - loss: 0.4393 - acc: 0.7926 - val_loss: 1.8995 - val_acc: 0.6632\n",
            "Epoch 166/500\n",
            "8/8 [==============================] - 0s 37ms/step - loss: 0.3861 - acc: 0.8418 - val_loss: 1.3448 - val_acc: 0.7053\n",
            "Epoch 167/500\n",
            "8/8 [==============================] - 0s 38ms/step - loss: 0.5542 - acc: 0.7909 - val_loss: 1.6143 - val_acc: 0.6895\n",
            "Epoch 168/500\n",
            "8/8 [==============================] - 0s 39ms/step - loss: 0.5469 - acc: 0.8067 - val_loss: 1.9173 - val_acc: 0.6579\n",
            "Epoch 169/500\n",
            "8/8 [==============================] - 0s 39ms/step - loss: 0.4080 - acc: 0.8401 - val_loss: 1.4294 - val_acc: 0.7105\n",
            "Epoch 170/500\n",
            "8/8 [==============================] - 0s 37ms/step - loss: 0.4457 - acc: 0.8155 - val_loss: 1.5710 - val_acc: 0.7105\n",
            "Epoch 171/500\n",
            "8/8 [==============================] - 0s 36ms/step - loss: 0.4004 - acc: 0.8330 - val_loss: 1.6607 - val_acc: 0.6895\n",
            "Epoch 172/500\n",
            "8/8 [==============================] - 0s 39ms/step - loss: 0.4094 - acc: 0.8278 - val_loss: 1.6175 - val_acc: 0.6947\n",
            "Epoch 173/500\n",
            "8/8 [==============================] - 0s 39ms/step - loss: 0.3280 - acc: 0.8717 - val_loss: 1.3715 - val_acc: 0.7263\n",
            "Epoch 174/500\n",
            "8/8 [==============================] - 0s 39ms/step - loss: 0.3761 - acc: 0.8260 - val_loss: 1.4956 - val_acc: 0.7316\n",
            "Epoch 175/500\n",
            "8/8 [==============================] - 0s 45ms/step - loss: 0.3559 - acc: 0.8506 - val_loss: 1.7239 - val_acc: 0.7000\n",
            "Epoch 176/500\n",
            "8/8 [==============================] - 0s 38ms/step - loss: 0.4021 - acc: 0.8278 - val_loss: 1.7072 - val_acc: 0.7105\n",
            "Epoch 177/500\n",
            "8/8 [==============================] - 0s 40ms/step - loss: 0.3708 - acc: 0.8453 - val_loss: 1.6900 - val_acc: 0.7000\n",
            "Epoch 178/500\n",
            "8/8 [==============================] - 0s 39ms/step - loss: 0.3427 - acc: 0.8436 - val_loss: 1.6646 - val_acc: 0.7053\n",
            "Epoch 179/500\n",
            "8/8 [==============================] - 0s 37ms/step - loss: 0.3429 - acc: 0.8559 - val_loss: 1.8453 - val_acc: 0.7000\n",
            "Epoch 180/500\n",
            "8/8 [==============================] - 0s 39ms/step - loss: 0.3363 - acc: 0.8612 - val_loss: 1.8445 - val_acc: 0.7158\n",
            "Epoch 181/500\n",
            "8/8 [==============================] - 0s 37ms/step - loss: 0.3294 - acc: 0.8594 - val_loss: 1.7873 - val_acc: 0.7105\n",
            "Epoch 182/500\n",
            "8/8 [==============================] - 0s 39ms/step - loss: 0.3051 - acc: 0.8682 - val_loss: 1.9557 - val_acc: 0.7000\n",
            "Epoch 183/500\n",
            "8/8 [==============================] - 0s 37ms/step - loss: 0.3159 - acc: 0.8576 - val_loss: 1.8741 - val_acc: 0.7158\n",
            "Epoch 184/500\n",
            "8/8 [==============================] - 0s 38ms/step - loss: 0.3323 - acc: 0.8647 - val_loss: 1.9676 - val_acc: 0.7000\n",
            "Epoch 185/500\n",
            "8/8 [==============================] - 0s 40ms/step - loss: 0.3510 - acc: 0.8489 - val_loss: 1.7272 - val_acc: 0.6789\n",
            "Epoch 186/500\n",
            "8/8 [==============================] - 0s 38ms/step - loss: 0.4037 - acc: 0.8278 - val_loss: 1.7076 - val_acc: 0.6895\n",
            "Epoch 187/500\n",
            "8/8 [==============================] - 0s 36ms/step - loss: 0.3546 - acc: 0.8506 - val_loss: 1.7765 - val_acc: 0.6947\n",
            "Epoch 188/500\n",
            "8/8 [==============================] - 0s 37ms/step - loss: 0.3609 - acc: 0.8559 - val_loss: 1.6212 - val_acc: 0.7000\n",
            "Epoch 189/500\n",
            "8/8 [==============================] - 0s 37ms/step - loss: 0.3437 - acc: 0.8436 - val_loss: 1.7043 - val_acc: 0.7211\n",
            "Epoch 190/500\n",
            "8/8 [==============================] - 0s 38ms/step - loss: 0.2860 - acc: 0.8770 - val_loss: 1.9413 - val_acc: 0.7105\n",
            "Epoch 191/500\n",
            "8/8 [==============================] - 0s 39ms/step - loss: 0.3521 - acc: 0.8383 - val_loss: 1.7830 - val_acc: 0.7421\n",
            "Epoch 192/500\n",
            "8/8 [==============================] - 0s 43ms/step - loss: 0.3317 - acc: 0.8506 - val_loss: 1.8539 - val_acc: 0.7000\n",
            "Epoch 193/500\n",
            "8/8 [==============================] - 0s 39ms/step - loss: 0.3062 - acc: 0.8752 - val_loss: 1.9591 - val_acc: 0.7263\n",
            "Epoch 194/500\n",
            "8/8 [==============================] - 0s 38ms/step - loss: 0.2883 - acc: 0.8840 - val_loss: 2.0204 - val_acc: 0.7263\n",
            "Epoch 195/500\n",
            "8/8 [==============================] - 0s 40ms/step - loss: 0.3357 - acc: 0.8348 - val_loss: 1.9803 - val_acc: 0.7105\n",
            "Epoch 196/500\n",
            "8/8 [==============================] - 0s 37ms/step - loss: 0.3101 - acc: 0.8647 - val_loss: 1.9800 - val_acc: 0.7105\n",
            "Epoch 197/500\n",
            "8/8 [==============================] - 0s 35ms/step - loss: 0.3458 - acc: 0.8506 - val_loss: 2.1249 - val_acc: 0.7211\n",
            "Epoch 198/500\n",
            "8/8 [==============================] - 0s 38ms/step - loss: 0.3011 - acc: 0.8506 - val_loss: 2.2295 - val_acc: 0.7105\n",
            "Epoch 199/500\n",
            "8/8 [==============================] - 0s 39ms/step - loss: 0.2910 - acc: 0.8664 - val_loss: 2.2421 - val_acc: 0.7211\n",
            "Epoch 200/500\n",
            "8/8 [==============================] - 0s 41ms/step - loss: 0.3040 - acc: 0.8506 - val_loss: 2.3556 - val_acc: 0.7053\n",
            "Epoch 201/500\n",
            "8/8 [==============================] - 0s 39ms/step - loss: 0.3195 - acc: 0.8717 - val_loss: 2.3154 - val_acc: 0.7158\n",
            "Epoch 202/500\n",
            "8/8 [==============================] - 0s 39ms/step - loss: 0.2782 - acc: 0.8822 - val_loss: 2.2428 - val_acc: 0.7158\n",
            "Epoch 203/500\n",
            "8/8 [==============================] - 0s 37ms/step - loss: 0.2949 - acc: 0.8840 - val_loss: 2.1524 - val_acc: 0.7316\n",
            "Epoch 204/500\n",
            "8/8 [==============================] - 0s 36ms/step - loss: 0.2816 - acc: 0.8805 - val_loss: 2.2392 - val_acc: 0.7316\n",
            "Epoch 205/500\n",
            "8/8 [==============================] - 0s 38ms/step - loss: 0.3012 - acc: 0.8858 - val_loss: 2.3550 - val_acc: 0.7316\n",
            "Epoch 206/500\n",
            "8/8 [==============================] - 0s 41ms/step - loss: 0.3046 - acc: 0.8735 - val_loss: 2.5477 - val_acc: 0.7263\n",
            "Epoch 207/500\n",
            "8/8 [==============================] - 0s 38ms/step - loss: 0.2929 - acc: 0.8682 - val_loss: 2.2326 - val_acc: 0.7105\n",
            "Epoch 208/500\n",
            "8/8 [==============================] - 0s 41ms/step - loss: 0.2800 - acc: 0.8875 - val_loss: 2.3835 - val_acc: 0.7000\n",
            "Epoch 209/500\n",
            "8/8 [==============================] - 0s 38ms/step - loss: 0.3183 - acc: 0.8664 - val_loss: 2.1771 - val_acc: 0.7053\n",
            "Epoch 210/500\n",
            "8/8 [==============================] - 0s 40ms/step - loss: 0.2672 - acc: 0.8858 - val_loss: 2.1626 - val_acc: 0.7211\n",
            "Epoch 211/500\n",
            "8/8 [==============================] - 0s 41ms/step - loss: 0.2843 - acc: 0.8822 - val_loss: 2.4677 - val_acc: 0.6947\n",
            "Epoch 212/500\n",
            "8/8 [==============================] - 0s 42ms/step - loss: 0.2820 - acc: 0.8647 - val_loss: 2.2306 - val_acc: 0.7053\n",
            "Epoch 213/500\n",
            "8/8 [==============================] - 0s 38ms/step - loss: 0.2259 - acc: 0.8963 - val_loss: 2.3322 - val_acc: 0.7053\n",
            "Epoch 214/500\n",
            "8/8 [==============================] - 0s 40ms/step - loss: 0.2923 - acc: 0.8682 - val_loss: 2.4927 - val_acc: 0.7263\n",
            "Epoch 215/500\n",
            "8/8 [==============================] - 0s 40ms/step - loss: 0.3111 - acc: 0.8664 - val_loss: 2.1017 - val_acc: 0.7211\n",
            "Epoch 216/500\n",
            "8/8 [==============================] - 0s 38ms/step - loss: 0.3520 - acc: 0.8453 - val_loss: 2.0071 - val_acc: 0.7368\n",
            "Epoch 217/500\n",
            "8/8 [==============================] - 0s 38ms/step - loss: 0.2938 - acc: 0.8787 - val_loss: 2.1017 - val_acc: 0.7316\n",
            "Epoch 218/500\n",
            "8/8 [==============================] - 0s 44ms/step - loss: 0.3184 - acc: 0.8506 - val_loss: 2.1953 - val_acc: 0.6947\n",
            "Epoch 219/500\n",
            "8/8 [==============================] - 0s 39ms/step - loss: 0.3097 - acc: 0.8594 - val_loss: 2.2492 - val_acc: 0.7053\n",
            "Epoch 220/500\n",
            "8/8 [==============================] - 0s 39ms/step - loss: 0.2999 - acc: 0.8682 - val_loss: 2.4174 - val_acc: 0.6895\n",
            "Epoch 221/500\n",
            "8/8 [==============================] - 0s 42ms/step - loss: 0.2794 - acc: 0.8717 - val_loss: 2.4408 - val_acc: 0.7053\n",
            "Epoch 222/500\n",
            "8/8 [==============================] - 0s 40ms/step - loss: 0.2985 - acc: 0.8752 - val_loss: 2.2511 - val_acc: 0.7316\n",
            "Epoch 223/500\n",
            "8/8 [==============================] - 0s 41ms/step - loss: 0.3153 - acc: 0.8647 - val_loss: 2.3426 - val_acc: 0.7158\n",
            "Epoch 224/500\n",
            "8/8 [==============================] - 0s 44ms/step - loss: 0.3519 - acc: 0.8401 - val_loss: 2.9074 - val_acc: 0.6842\n",
            "Epoch 225/500\n",
            "8/8 [==============================] - 0s 40ms/step - loss: 0.5850 - acc: 0.8313 - val_loss: 1.9730 - val_acc: 0.7105\n",
            "Epoch 226/500\n",
            "8/8 [==============================] - 0s 39ms/step - loss: 0.6309 - acc: 0.7856 - val_loss: 1.8396 - val_acc: 0.7105\n",
            "Epoch 227/500\n",
            "8/8 [==============================] - 0s 37ms/step - loss: 0.4073 - acc: 0.8348 - val_loss: 2.1469 - val_acc: 0.6737\n",
            "Epoch 228/500\n",
            "8/8 [==============================] - 0s 39ms/step - loss: 0.4518 - acc: 0.8295 - val_loss: 1.8300 - val_acc: 0.6842\n",
            "Epoch 229/500\n",
            "8/8 [==============================] - 0s 38ms/step - loss: 0.3863 - acc: 0.8453 - val_loss: 1.8040 - val_acc: 0.7053\n",
            "Epoch 230/500\n",
            "8/8 [==============================] - 0s 41ms/step - loss: 0.3527 - acc: 0.8699 - val_loss: 1.8398 - val_acc: 0.6947\n",
            "Epoch 231/500\n",
            "8/8 [==============================] - 0s 41ms/step - loss: 0.3636 - acc: 0.8664 - val_loss: 1.5389 - val_acc: 0.6947\n",
            "Epoch 232/500\n",
            "8/8 [==============================] - 0s 42ms/step - loss: 0.3388 - acc: 0.8682 - val_loss: 1.6538 - val_acc: 0.7474\n",
            "Epoch 233/500\n",
            "8/8 [==============================] - 0s 42ms/step - loss: 0.3517 - acc: 0.8612 - val_loss: 1.5679 - val_acc: 0.7316\n",
            "Epoch 234/500\n",
            "8/8 [==============================] - 0s 45ms/step - loss: 0.3033 - acc: 0.8664 - val_loss: 1.8183 - val_acc: 0.7263\n",
            "Epoch 235/500\n",
            "8/8 [==============================] - 0s 40ms/step - loss: 0.2890 - acc: 0.8787 - val_loss: 1.7483 - val_acc: 0.7211\n",
            "Epoch 236/500\n",
            "8/8 [==============================] - 0s 37ms/step - loss: 0.3191 - acc: 0.8682 - val_loss: 1.7367 - val_acc: 0.7263\n",
            "Epoch 237/500\n",
            "8/8 [==============================] - 0s 40ms/step - loss: 0.3113 - acc: 0.8664 - val_loss: 1.7343 - val_acc: 0.7158\n",
            "Epoch 238/500\n",
            "8/8 [==============================] - 0s 39ms/step - loss: 0.2927 - acc: 0.8770 - val_loss: 1.7862 - val_acc: 0.7368\n",
            "Epoch 239/500\n",
            "8/8 [==============================] - 0s 59ms/step - loss: 0.2408 - acc: 0.9051 - val_loss: 1.8937 - val_acc: 0.7316\n",
            "Epoch 240/500\n",
            "8/8 [==============================] - 0s 60ms/step - loss: 0.2452 - acc: 0.8946 - val_loss: 1.9058 - val_acc: 0.7316\n",
            "Epoch 241/500\n",
            "8/8 [==============================] - 0s 49ms/step - loss: 0.2813 - acc: 0.8805 - val_loss: 1.8163 - val_acc: 0.7474\n",
            "Epoch 242/500\n",
            "8/8 [==============================] - 0s 46ms/step - loss: 0.2552 - acc: 0.8946 - val_loss: 1.8322 - val_acc: 0.7316\n",
            "Epoch 243/500\n",
            "8/8 [==============================] - 0s 52ms/step - loss: 0.2569 - acc: 0.8822 - val_loss: 1.9621 - val_acc: 0.7263\n",
            "Epoch 244/500\n",
            "8/8 [==============================] - 0s 39ms/step - loss: 0.2497 - acc: 0.8981 - val_loss: 1.9497 - val_acc: 0.7263\n",
            "Epoch 245/500\n",
            "8/8 [==============================] - 0s 40ms/step - loss: 0.2672 - acc: 0.8875 - val_loss: 2.0666 - val_acc: 0.7158\n",
            "Epoch 246/500\n",
            "8/8 [==============================] - 0s 40ms/step - loss: 0.2279 - acc: 0.9192 - val_loss: 2.1238 - val_acc: 0.7158\n",
            "Epoch 247/500\n",
            "8/8 [==============================] - 0s 40ms/step - loss: 0.2539 - acc: 0.8928 - val_loss: 2.1895 - val_acc: 0.7158\n",
            "Epoch 248/500\n",
            "8/8 [==============================] - 0s 38ms/step - loss: 0.2869 - acc: 0.8735 - val_loss: 2.0207 - val_acc: 0.7474\n",
            "Epoch 249/500\n",
            "8/8 [==============================] - 0s 39ms/step - loss: 0.2606 - acc: 0.8998 - val_loss: 2.0247 - val_acc: 0.7421\n",
            "Epoch 250/500\n",
            "8/8 [==============================] - 0s 38ms/step - loss: 0.2633 - acc: 0.8875 - val_loss: 1.7207 - val_acc: 0.7842\n",
            "Epoch 251/500\n",
            "8/8 [==============================] - 0s 38ms/step - loss: 0.2470 - acc: 0.8998 - val_loss: 1.6800 - val_acc: 0.7684\n",
            "Epoch 252/500\n",
            "8/8 [==============================] - 0s 41ms/step - loss: 0.2587 - acc: 0.8928 - val_loss: 1.9190 - val_acc: 0.7474\n",
            "Epoch 253/500\n",
            "8/8 [==============================] - 0s 39ms/step - loss: 0.2447 - acc: 0.9069 - val_loss: 1.9615 - val_acc: 0.7526\n",
            "Epoch 254/500\n",
            "8/8 [==============================] - 0s 42ms/step - loss: 0.2810 - acc: 0.8875 - val_loss: 1.8290 - val_acc: 0.7474\n",
            "Epoch 255/500\n",
            "8/8 [==============================] - 0s 39ms/step - loss: 0.2713 - acc: 0.9033 - val_loss: 1.8954 - val_acc: 0.7421\n",
            "Epoch 256/500\n",
            "8/8 [==============================] - 0s 38ms/step - loss: 0.2271 - acc: 0.9069 - val_loss: 2.0972 - val_acc: 0.7421\n",
            "Epoch 257/500\n",
            "8/8 [==============================] - 0s 39ms/step - loss: 0.2466 - acc: 0.9069 - val_loss: 2.1658 - val_acc: 0.7368\n",
            "Epoch 258/500\n",
            "8/8 [==============================] - 0s 39ms/step - loss: 0.2943 - acc: 0.8805 - val_loss: 2.2849 - val_acc: 0.7421\n",
            "Epoch 259/500\n",
            "8/8 [==============================] - 0s 40ms/step - loss: 0.2410 - acc: 0.8946 - val_loss: 2.2045 - val_acc: 0.7368\n",
            "Epoch 260/500\n",
            "8/8 [==============================] - 0s 40ms/step - loss: 0.2231 - acc: 0.9227 - val_loss: 2.2013 - val_acc: 0.7263\n",
            "Epoch 261/500\n",
            "8/8 [==============================] - 0s 39ms/step - loss: 0.2561 - acc: 0.8875 - val_loss: 2.1831 - val_acc: 0.7316\n",
            "Epoch 262/500\n",
            "8/8 [==============================] - 0s 39ms/step - loss: 0.2912 - acc: 0.8822 - val_loss: 2.2530 - val_acc: 0.7368\n",
            "Epoch 263/500\n",
            "8/8 [==============================] - 0s 38ms/step - loss: 0.2302 - acc: 0.8998 - val_loss: 2.3620 - val_acc: 0.7316\n",
            "Epoch 264/500\n",
            "8/8 [==============================] - 0s 38ms/step - loss: 0.2332 - acc: 0.9156 - val_loss: 2.3770 - val_acc: 0.7474\n",
            "Epoch 265/500\n",
            "8/8 [==============================] - 0s 39ms/step - loss: 0.2538 - acc: 0.8963 - val_loss: 2.2754 - val_acc: 0.7474\n",
            "Epoch 266/500\n",
            "8/8 [==============================] - 0s 39ms/step - loss: 0.2205 - acc: 0.9121 - val_loss: 2.3063 - val_acc: 0.7474\n",
            "Epoch 267/500\n",
            "8/8 [==============================] - 0s 55ms/step - loss: 0.2514 - acc: 0.9069 - val_loss: 2.5724 - val_acc: 0.7263\n",
            "Epoch 268/500\n",
            "8/8 [==============================] - 1s 64ms/step - loss: 0.2863 - acc: 0.8910 - val_loss: 2.5315 - val_acc: 0.7421\n",
            "Epoch 269/500\n",
            "8/8 [==============================] - 0s 62ms/step - loss: 0.2681 - acc: 0.8664 - val_loss: 2.6855 - val_acc: 0.7211\n",
            "Epoch 270/500\n",
            "8/8 [==============================] - 0s 58ms/step - loss: 0.2851 - acc: 0.8928 - val_loss: 2.4623 - val_acc: 0.7474\n",
            "Epoch 271/500\n",
            "8/8 [==============================] - 0s 56ms/step - loss: 0.2700 - acc: 0.8981 - val_loss: 2.4903 - val_acc: 0.7263\n",
            "Epoch 272/500\n",
            "8/8 [==============================] - 0s 62ms/step - loss: 0.3135 - acc: 0.8822 - val_loss: 2.7600 - val_acc: 0.7158\n",
            "Epoch 273/500\n",
            "8/8 [==============================] - 0s 63ms/step - loss: 0.4275 - acc: 0.8524 - val_loss: 1.7426 - val_acc: 0.7263\n",
            "Epoch 274/500\n",
            "8/8 [==============================] - 0s 61ms/step - loss: 0.3931 - acc: 0.8401 - val_loss: 1.8744 - val_acc: 0.7263\n",
            "Epoch 275/500\n",
            "8/8 [==============================] - 0s 58ms/step - loss: 0.3783 - acc: 0.8612 - val_loss: 1.8505 - val_acc: 0.7105\n",
            "Epoch 276/500\n",
            "8/8 [==============================] - 0s 58ms/step - loss: 0.3080 - acc: 0.8963 - val_loss: 2.0127 - val_acc: 0.7368\n",
            "Epoch 277/500\n",
            "8/8 [==============================] - 0s 58ms/step - loss: 0.2834 - acc: 0.8946 - val_loss: 2.0072 - val_acc: 0.7526\n",
            "Epoch 278/500\n",
            "8/8 [==============================] - 0s 39ms/step - loss: 0.2638 - acc: 0.8893 - val_loss: 2.0385 - val_acc: 0.7632\n",
            "Epoch 279/500\n",
            "8/8 [==============================] - 0s 42ms/step - loss: 0.2585 - acc: 0.9016 - val_loss: 2.0101 - val_acc: 0.7526\n",
            "Epoch 280/500\n",
            "8/8 [==============================] - 0s 39ms/step - loss: 0.2965 - acc: 0.8787 - val_loss: 2.0846 - val_acc: 0.7526\n",
            "Epoch 281/500\n",
            "8/8 [==============================] - 0s 37ms/step - loss: 0.2252 - acc: 0.9051 - val_loss: 2.2306 - val_acc: 0.7316\n",
            "Epoch 282/500\n",
            "8/8 [==============================] - 0s 40ms/step - loss: 0.2536 - acc: 0.8910 - val_loss: 2.5066 - val_acc: 0.7211\n",
            "Epoch 283/500\n",
            "8/8 [==============================] - 0s 43ms/step - loss: 0.2463 - acc: 0.9086 - val_loss: 2.5955 - val_acc: 0.7421\n",
            "Epoch 284/500\n",
            "8/8 [==============================] - 0s 40ms/step - loss: 0.2380 - acc: 0.9069 - val_loss: 2.7791 - val_acc: 0.7158\n",
            "Epoch 285/500\n",
            "8/8 [==============================] - 0s 40ms/step - loss: 0.2384 - acc: 0.9121 - val_loss: 2.6990 - val_acc: 0.7316\n",
            "Epoch 286/500\n",
            "8/8 [==============================] - 0s 41ms/step - loss: 0.2383 - acc: 0.8946 - val_loss: 2.6957 - val_acc: 0.7316\n",
            "Epoch 287/500\n",
            "8/8 [==============================] - 0s 39ms/step - loss: 0.2200 - acc: 0.9121 - val_loss: 2.4050 - val_acc: 0.7526\n",
            "Epoch 288/500\n",
            "8/8 [==============================] - 0s 40ms/step - loss: 0.2106 - acc: 0.9209 - val_loss: 2.4338 - val_acc: 0.7579\n",
            "Epoch 289/500\n",
            "8/8 [==============================] - 0s 39ms/step - loss: 0.2270 - acc: 0.9016 - val_loss: 2.5053 - val_acc: 0.7526\n",
            "Epoch 290/500\n",
            "8/8 [==============================] - 0s 42ms/step - loss: 0.2335 - acc: 0.9192 - val_loss: 2.5644 - val_acc: 0.7579\n",
            "Epoch 291/500\n",
            "8/8 [==============================] - 0s 43ms/step - loss: 0.2168 - acc: 0.9156 - val_loss: 2.7115 - val_acc: 0.7421\n",
            "Epoch 292/500\n",
            "8/8 [==============================] - 0s 43ms/step - loss: 0.2677 - acc: 0.8946 - val_loss: 2.4409 - val_acc: 0.7474\n",
            "Epoch 293/500\n",
            "8/8 [==============================] - 0s 40ms/step - loss: 0.2568 - acc: 0.8805 - val_loss: 2.6495 - val_acc: 0.7579\n",
            "Epoch 294/500\n",
            "8/8 [==============================] - 0s 40ms/step - loss: 0.4064 - acc: 0.8471 - val_loss: 2.4685 - val_acc: 0.6737\n",
            "Epoch 295/500\n",
            "8/8 [==============================] - 0s 41ms/step - loss: 0.5944 - acc: 0.8383 - val_loss: 2.5565 - val_acc: 0.7000\n",
            "Epoch 296/500\n",
            "8/8 [==============================] - 0s 37ms/step - loss: 0.4629 - acc: 0.8629 - val_loss: 1.8407 - val_acc: 0.7263\n",
            "Epoch 297/500\n",
            "8/8 [==============================] - 0s 38ms/step - loss: 0.3783 - acc: 0.8453 - val_loss: 1.8562 - val_acc: 0.7158\n",
            "Epoch 298/500\n",
            "8/8 [==============================] - 0s 42ms/step - loss: 0.3071 - acc: 0.8875 - val_loss: 2.0082 - val_acc: 0.7053\n",
            "Epoch 299/500\n",
            "8/8 [==============================] - 0s 43ms/step - loss: 0.3171 - acc: 0.8822 - val_loss: 1.8384 - val_acc: 0.7211\n",
            "Epoch 300/500\n",
            "8/8 [==============================] - 0s 40ms/step - loss: 0.3094 - acc: 0.8735 - val_loss: 2.0154 - val_acc: 0.6895\n",
            "Epoch 301/500\n",
            "8/8 [==============================] - 0s 43ms/step - loss: 0.2512 - acc: 0.9156 - val_loss: 2.5940 - val_acc: 0.6737\n",
            "Epoch 302/500\n",
            "8/8 [==============================] - 0s 43ms/step - loss: 0.2846 - acc: 0.8981 - val_loss: 2.7391 - val_acc: 0.6684\n",
            "Epoch 303/500\n",
            "8/8 [==============================] - 0s 42ms/step - loss: 0.2696 - acc: 0.8910 - val_loss: 2.7162 - val_acc: 0.6842\n",
            "Epoch 304/500\n",
            "8/8 [==============================] - 0s 44ms/step - loss: 0.2519 - acc: 0.8981 - val_loss: 2.6038 - val_acc: 0.7000\n",
            "Epoch 305/500\n",
            "8/8 [==============================] - 0s 45ms/step - loss: 0.2410 - acc: 0.9139 - val_loss: 2.5791 - val_acc: 0.7316\n",
            "Epoch 306/500\n",
            "8/8 [==============================] - 0s 42ms/step - loss: 0.2332 - acc: 0.9086 - val_loss: 2.5201 - val_acc: 0.7316\n",
            "Epoch 307/500\n",
            "8/8 [==============================] - 0s 43ms/step - loss: 0.2272 - acc: 0.9069 - val_loss: 2.6915 - val_acc: 0.7158\n",
            "Epoch 308/500\n",
            "8/8 [==============================] - 0s 42ms/step - loss: 0.2209 - acc: 0.8998 - val_loss: 3.0196 - val_acc: 0.7053\n",
            "Epoch 309/500\n",
            "8/8 [==============================] - 0s 38ms/step - loss: 0.2627 - acc: 0.8928 - val_loss: 2.8191 - val_acc: 0.7105\n",
            "Epoch 310/500\n",
            "8/8 [==============================] - 0s 39ms/step - loss: 0.2349 - acc: 0.9156 - val_loss: 2.7208 - val_acc: 0.7158\n",
            "Epoch 311/500\n",
            "8/8 [==============================] - 0s 40ms/step - loss: 0.2551 - acc: 0.8981 - val_loss: 3.1919 - val_acc: 0.6895\n",
            "Epoch 312/500\n",
            "8/8 [==============================] - 0s 40ms/step - loss: 0.2043 - acc: 0.9315 - val_loss: 3.0672 - val_acc: 0.6842\n",
            "Epoch 313/500\n",
            "8/8 [==============================] - 0s 42ms/step - loss: 0.2406 - acc: 0.9104 - val_loss: 3.0330 - val_acc: 0.7000\n",
            "Epoch 314/500\n",
            "8/8 [==============================] - 0s 44ms/step - loss: 0.2251 - acc: 0.9086 - val_loss: 2.9305 - val_acc: 0.7158\n",
            "Epoch 315/500\n",
            "8/8 [==============================] - 0s 45ms/step - loss: 0.2182 - acc: 0.9174 - val_loss: 3.0159 - val_acc: 0.7158\n",
            "Epoch 316/500\n",
            "8/8 [==============================] - 0s 43ms/step - loss: 0.2078 - acc: 0.9262 - val_loss: 3.1740 - val_acc: 0.7000\n",
            "Epoch 317/500\n",
            "8/8 [==============================] - 0s 44ms/step - loss: 0.2636 - acc: 0.8928 - val_loss: 3.3371 - val_acc: 0.6895\n",
            "Epoch 318/500\n",
            "8/8 [==============================] - 0s 45ms/step - loss: 0.1866 - acc: 0.9262 - val_loss: 3.6388 - val_acc: 0.6842\n",
            "Epoch 319/500\n",
            "8/8 [==============================] - 0s 45ms/step - loss: 0.1959 - acc: 0.9402 - val_loss: 3.6829 - val_acc: 0.6789\n",
            "Epoch 320/500\n",
            "8/8 [==============================] - 0s 55ms/step - loss: 0.2636 - acc: 0.8858 - val_loss: 3.3220 - val_acc: 0.6737\n",
            "Epoch 321/500\n",
            "8/8 [==============================] - 0s 53ms/step - loss: 0.2245 - acc: 0.9139 - val_loss: 3.1298 - val_acc: 0.7053\n",
            "Epoch 322/500\n",
            "8/8 [==============================] - 0s 44ms/step - loss: 0.2060 - acc: 0.9139 - val_loss: 3.3367 - val_acc: 0.7000\n",
            "Epoch 323/500\n",
            "8/8 [==============================] - 0s 41ms/step - loss: 0.2106 - acc: 0.9104 - val_loss: 3.6374 - val_acc: 0.6737\n",
            "Epoch 324/500\n",
            "8/8 [==============================] - 0s 44ms/step - loss: 0.2117 - acc: 0.9121 - val_loss: 3.7699 - val_acc: 0.6842\n",
            "Epoch 325/500\n",
            "8/8 [==============================] - 0s 42ms/step - loss: 0.2216 - acc: 0.9086 - val_loss: 4.1156 - val_acc: 0.6895\n",
            "Epoch 326/500\n",
            "8/8 [==============================] - 0s 45ms/step - loss: 0.2569 - acc: 0.8981 - val_loss: 2.7910 - val_acc: 0.6947\n",
            "Epoch 327/500\n",
            "8/8 [==============================] - 0s 50ms/step - loss: 0.3423 - acc: 0.8787 - val_loss: 2.8790 - val_acc: 0.6842\n",
            "Epoch 328/500\n",
            "8/8 [==============================] - 0s 45ms/step - loss: 0.2104 - acc: 0.9209 - val_loss: 3.0285 - val_acc: 0.7000\n",
            "Epoch 329/500\n",
            "8/8 [==============================] - 0s 45ms/step - loss: 0.2536 - acc: 0.9086 - val_loss: 3.1134 - val_acc: 0.6895\n",
            "Epoch 330/500\n",
            "8/8 [==============================] - 0s 41ms/step - loss: 0.2299 - acc: 0.9156 - val_loss: 3.2952 - val_acc: 0.6789\n",
            "Epoch 331/500\n",
            "8/8 [==============================] - 0s 53ms/step - loss: 0.2267 - acc: 0.9086 - val_loss: 2.7302 - val_acc: 0.7000\n",
            "Epoch 332/500\n",
            "8/8 [==============================] - 0s 44ms/step - loss: 0.2422 - acc: 0.9069 - val_loss: 2.6340 - val_acc: 0.6842\n",
            "Epoch 333/500\n",
            "8/8 [==============================] - 0s 45ms/step - loss: 0.2427 - acc: 0.9121 - val_loss: 3.0533 - val_acc: 0.6895\n",
            "Epoch 334/500\n",
            "8/8 [==============================] - 0s 46ms/step - loss: 0.2088 - acc: 0.9069 - val_loss: 3.3904 - val_acc: 0.6842\n",
            "Epoch 335/500\n",
            "8/8 [==============================] - 0s 44ms/step - loss: 0.2559 - acc: 0.9139 - val_loss: 3.0468 - val_acc: 0.6895\n",
            "Epoch 336/500\n",
            "8/8 [==============================] - 0s 42ms/step - loss: 0.2082 - acc: 0.9244 - val_loss: 2.7632 - val_acc: 0.7053\n",
            "Epoch 337/500\n",
            "8/8 [==============================] - 0s 43ms/step - loss: 0.2156 - acc: 0.9104 - val_loss: 2.8130 - val_acc: 0.7053\n",
            "Epoch 338/500\n",
            "8/8 [==============================] - 0s 43ms/step - loss: 0.2822 - acc: 0.8946 - val_loss: 3.0080 - val_acc: 0.6947\n",
            "Epoch 339/500\n",
            "8/8 [==============================] - 0s 44ms/step - loss: 0.1971 - acc: 0.9262 - val_loss: 3.2335 - val_acc: 0.6789\n",
            "Epoch 340/500\n",
            "8/8 [==============================] - 0s 44ms/step - loss: 0.1788 - acc: 0.9227 - val_loss: 3.3442 - val_acc: 0.6895\n",
            "Epoch 341/500\n",
            "8/8 [==============================] - 0s 45ms/step - loss: 0.2271 - acc: 0.9086 - val_loss: 3.4428 - val_acc: 0.6737\n",
            "Epoch 342/500\n",
            "8/8 [==============================] - 0s 41ms/step - loss: 0.2151 - acc: 0.9244 - val_loss: 3.5714 - val_acc: 0.6737\n",
            "Epoch 343/500\n",
            "8/8 [==============================] - 0s 43ms/step - loss: 0.2397 - acc: 0.8875 - val_loss: 3.4077 - val_acc: 0.6842\n",
            "Epoch 344/500\n",
            "8/8 [==============================] - 0s 43ms/step - loss: 0.2310 - acc: 0.9033 - val_loss: 3.1994 - val_acc: 0.6947\n",
            "Epoch 345/500\n",
            "8/8 [==============================] - 0s 41ms/step - loss: 0.1923 - acc: 0.9279 - val_loss: 3.0826 - val_acc: 0.7053\n",
            "Epoch 346/500\n",
            "8/8 [==============================] - 0s 43ms/step - loss: 0.1986 - acc: 0.9139 - val_loss: 3.2414 - val_acc: 0.7105\n",
            "Epoch 347/500\n",
            "8/8 [==============================] - 0s 42ms/step - loss: 0.2231 - acc: 0.9104 - val_loss: 3.4066 - val_acc: 0.7053\n",
            "Epoch 348/500\n",
            "8/8 [==============================] - 0s 41ms/step - loss: 0.2052 - acc: 0.9121 - val_loss: 3.3279 - val_acc: 0.6947\n",
            "Epoch 349/500\n",
            "8/8 [==============================] - 0s 42ms/step - loss: 0.2265 - acc: 0.9069 - val_loss: 3.2399 - val_acc: 0.7053\n",
            "Epoch 350/500\n",
            "8/8 [==============================] - 0s 41ms/step - loss: 0.2133 - acc: 0.9051 - val_loss: 3.3331 - val_acc: 0.7053\n",
            "Epoch 351/500\n",
            "8/8 [==============================] - 0s 39ms/step - loss: 0.2444 - acc: 0.9033 - val_loss: 3.4525 - val_acc: 0.7105\n",
            "Epoch 352/500\n",
            "8/8 [==============================] - 0s 42ms/step - loss: 0.2088 - acc: 0.9121 - val_loss: 3.7737 - val_acc: 0.7000\n",
            "Epoch 353/500\n",
            "8/8 [==============================] - 0s 42ms/step - loss: 0.2340 - acc: 0.8963 - val_loss: 3.3535 - val_acc: 0.7211\n",
            "Epoch 354/500\n",
            "8/8 [==============================] - 0s 43ms/step - loss: 0.1772 - acc: 0.9473 - val_loss: 3.0744 - val_acc: 0.7263\n",
            "Epoch 355/500\n",
            "8/8 [==============================] - 0s 44ms/step - loss: 0.2453 - acc: 0.9069 - val_loss: 3.6074 - val_acc: 0.7053\n",
            "Epoch 356/500\n",
            "8/8 [==============================] - 0s 45ms/step - loss: 0.2540 - acc: 0.8981 - val_loss: 4.5538 - val_acc: 0.6526\n",
            "Epoch 357/500\n",
            "8/8 [==============================] - 0s 45ms/step - loss: 0.2868 - acc: 0.9051 - val_loss: 2.7367 - val_acc: 0.7000\n",
            "Epoch 358/500\n",
            "8/8 [==============================] - 0s 41ms/step - loss: 0.4263 - acc: 0.8893 - val_loss: 3.0408 - val_acc: 0.7316\n",
            "Epoch 359/500\n",
            "8/8 [==============================] - 0s 39ms/step - loss: 0.3473 - acc: 0.9139 - val_loss: 2.9029 - val_acc: 0.7263\n",
            "Epoch 360/500\n",
            "8/8 [==============================] - 0s 41ms/step - loss: 0.2712 - acc: 0.9156 - val_loss: 2.5791 - val_acc: 0.7211\n",
            "Epoch 361/500\n",
            "8/8 [==============================] - 0s 43ms/step - loss: 0.2075 - acc: 0.9262 - val_loss: 2.2581 - val_acc: 0.7211\n",
            "Epoch 362/500\n",
            "8/8 [==============================] - 0s 42ms/step - loss: 0.2303 - acc: 0.9156 - val_loss: 2.2441 - val_acc: 0.7579\n",
            "Epoch 363/500\n",
            "8/8 [==============================] - 0s 42ms/step - loss: 0.2158 - acc: 0.9192 - val_loss: 2.7986 - val_acc: 0.7105\n",
            "Epoch 364/500\n",
            "8/8 [==============================] - 0s 40ms/step - loss: 0.2452 - acc: 0.9033 - val_loss: 3.2039 - val_acc: 0.6842\n",
            "Epoch 365/500\n",
            "8/8 [==============================] - 0s 41ms/step - loss: 0.2356 - acc: 0.9209 - val_loss: 2.4512 - val_acc: 0.6947\n",
            "Epoch 366/500\n",
            "8/8 [==============================] - 0s 40ms/step - loss: 0.2267 - acc: 0.9104 - val_loss: 2.5525 - val_acc: 0.7053\n",
            "Epoch 367/500\n",
            "8/8 [==============================] - 0s 43ms/step - loss: 0.3064 - acc: 0.8963 - val_loss: 2.5682 - val_acc: 0.7211\n",
            "Epoch 368/500\n",
            "8/8 [==============================] - 0s 40ms/step - loss: 0.2728 - acc: 0.8946 - val_loss: 2.5531 - val_acc: 0.7316\n",
            "Epoch 369/500\n",
            "8/8 [==============================] - 0s 44ms/step - loss: 0.2257 - acc: 0.9086 - val_loss: 2.9185 - val_acc: 0.7368\n",
            "Epoch 370/500\n",
            "8/8 [==============================] - 0s 48ms/step - loss: 0.1806 - acc: 0.9332 - val_loss: 2.8502 - val_acc: 0.7211\n",
            "Epoch 371/500\n",
            "8/8 [==============================] - 0s 42ms/step - loss: 0.2609 - acc: 0.9192 - val_loss: 2.5260 - val_acc: 0.7421\n",
            "Epoch 372/500\n",
            "8/8 [==============================] - 0s 41ms/step - loss: 0.2690 - acc: 0.9016 - val_loss: 2.7929 - val_acc: 0.7263\n",
            "Epoch 373/500\n",
            "8/8 [==============================] - 0s 42ms/step - loss: 0.2172 - acc: 0.9104 - val_loss: 3.1569 - val_acc: 0.7158\n",
            "Epoch 374/500\n",
            "8/8 [==============================] - 0s 41ms/step - loss: 0.2008 - acc: 0.9156 - val_loss: 2.8526 - val_acc: 0.7368\n",
            "Epoch 375/500\n",
            "8/8 [==============================] - 0s 41ms/step - loss: 0.2073 - acc: 0.9156 - val_loss: 2.8818 - val_acc: 0.7526\n",
            "Epoch 376/500\n",
            "8/8 [==============================] - 0s 46ms/step - loss: 0.2116 - acc: 0.9262 - val_loss: 2.9482 - val_acc: 0.7368\n",
            "Epoch 377/500\n",
            "8/8 [==============================] - 0s 40ms/step - loss: 0.1935 - acc: 0.9279 - val_loss: 3.1148 - val_acc: 0.7000\n",
            "Epoch 378/500\n",
            "8/8 [==============================] - 0s 40ms/step - loss: 0.2545 - acc: 0.8963 - val_loss: 3.3127 - val_acc: 0.7211\n",
            "Epoch 379/500\n",
            "8/8 [==============================] - 0s 39ms/step - loss: 0.1873 - acc: 0.9227 - val_loss: 3.3723 - val_acc: 0.7158\n",
            "Epoch 380/500\n",
            "8/8 [==============================] - 0s 41ms/step - loss: 0.2155 - acc: 0.9121 - val_loss: 3.4047 - val_acc: 0.7263\n",
            "Epoch 381/500\n",
            "8/8 [==============================] - 0s 40ms/step - loss: 0.2533 - acc: 0.9086 - val_loss: 2.4939 - val_acc: 0.7368\n",
            "Epoch 382/500\n",
            "8/8 [==============================] - 0s 43ms/step - loss: 0.2316 - acc: 0.9315 - val_loss: 2.6624 - val_acc: 0.7474\n",
            "Epoch 383/500\n",
            "8/8 [==============================] - 0s 44ms/step - loss: 0.1945 - acc: 0.9262 - val_loss: 3.0095 - val_acc: 0.7316\n",
            "Epoch 384/500\n",
            "8/8 [==============================] - 0s 42ms/step - loss: 0.2044 - acc: 0.9174 - val_loss: 3.4266 - val_acc: 0.7211\n",
            "Epoch 385/500\n",
            "8/8 [==============================] - 0s 42ms/step - loss: 0.2576 - acc: 0.8963 - val_loss: 3.5329 - val_acc: 0.7000\n",
            "Epoch 386/500\n",
            "8/8 [==============================] - 0s 42ms/step - loss: 0.1959 - acc: 0.9086 - val_loss: 3.5266 - val_acc: 0.6895\n",
            "Epoch 387/500\n",
            "8/8 [==============================] - 0s 43ms/step - loss: 0.2214 - acc: 0.9156 - val_loss: 3.5304 - val_acc: 0.7000\n",
            "Epoch 388/500\n",
            "8/8 [==============================] - 0s 39ms/step - loss: 0.1688 - acc: 0.9367 - val_loss: 3.6085 - val_acc: 0.7000\n",
            "Epoch 389/500\n",
            "8/8 [==============================] - 0s 42ms/step - loss: 0.2182 - acc: 0.9069 - val_loss: 3.8448 - val_acc: 0.7053\n",
            "Epoch 390/500\n",
            "8/8 [==============================] - 0s 42ms/step - loss: 0.1676 - acc: 0.9420 - val_loss: 3.5881 - val_acc: 0.7105\n",
            "Epoch 391/500\n",
            "8/8 [==============================] - 0s 42ms/step - loss: 0.2089 - acc: 0.9174 - val_loss: 3.1846 - val_acc: 0.7211\n",
            "Epoch 392/500\n",
            "8/8 [==============================] - 0s 44ms/step - loss: 0.2259 - acc: 0.9104 - val_loss: 3.6564 - val_acc: 0.7105\n",
            "Epoch 393/500\n",
            "8/8 [==============================] - 0s 40ms/step - loss: 0.2323 - acc: 0.9209 - val_loss: 3.7540 - val_acc: 0.7211\n",
            "Epoch 394/500\n",
            "8/8 [==============================] - 0s 40ms/step - loss: 0.1901 - acc: 0.9279 - val_loss: 2.9914 - val_acc: 0.7316\n",
            "Epoch 395/500\n",
            "8/8 [==============================] - 0s 41ms/step - loss: 0.2101 - acc: 0.9209 - val_loss: 3.5873 - val_acc: 0.7053\n",
            "Epoch 396/500\n",
            "8/8 [==============================] - 0s 39ms/step - loss: 0.2202 - acc: 0.9192 - val_loss: 3.3016 - val_acc: 0.7158\n",
            "Epoch 397/500\n",
            "8/8 [==============================] - 0s 42ms/step - loss: 0.1737 - acc: 0.9279 - val_loss: 3.1231 - val_acc: 0.7316\n",
            "Epoch 398/500\n",
            "8/8 [==============================] - 0s 42ms/step - loss: 0.1580 - acc: 0.9420 - val_loss: 3.1924 - val_acc: 0.7105\n",
            "Epoch 399/500\n",
            "8/8 [==============================] - 0s 41ms/step - loss: 0.1482 - acc: 0.9385 - val_loss: 3.3479 - val_acc: 0.7263\n",
            "Epoch 400/500\n",
            "8/8 [==============================] - 0s 40ms/step - loss: 0.2249 - acc: 0.9192 - val_loss: 3.4597 - val_acc: 0.7263\n",
            "Epoch 401/500\n",
            "8/8 [==============================] - 0s 41ms/step - loss: 0.1586 - acc: 0.9420 - val_loss: 3.5498 - val_acc: 0.7316\n",
            "Epoch 402/500\n",
            "8/8 [==============================] - 0s 40ms/step - loss: 0.2138 - acc: 0.9174 - val_loss: 3.6609 - val_acc: 0.7263\n",
            "Epoch 403/500\n",
            "8/8 [==============================] - 0s 38ms/step - loss: 0.1839 - acc: 0.9350 - val_loss: 3.9172 - val_acc: 0.7000\n",
            "Epoch 404/500\n",
            "8/8 [==============================] - 0s 42ms/step - loss: 0.2220 - acc: 0.9244 - val_loss: 3.7610 - val_acc: 0.7158\n",
            "Epoch 405/500\n",
            "8/8 [==============================] - 0s 43ms/step - loss: 0.2137 - acc: 0.9227 - val_loss: 3.7729 - val_acc: 0.7211\n",
            "Epoch 406/500\n",
            "8/8 [==============================] - 0s 41ms/step - loss: 0.2312 - acc: 0.9051 - val_loss: 3.7943 - val_acc: 0.7053\n",
            "Epoch 407/500\n",
            "8/8 [==============================] - 0s 41ms/step - loss: 0.1887 - acc: 0.9209 - val_loss: 3.6366 - val_acc: 0.7105\n",
            "Epoch 408/500\n",
            "8/8 [==============================] - 0s 42ms/step - loss: 0.2008 - acc: 0.9192 - val_loss: 3.7631 - val_acc: 0.6895\n",
            "Epoch 409/500\n",
            "8/8 [==============================] - 0s 40ms/step - loss: 0.2008 - acc: 0.9192 - val_loss: 3.8403 - val_acc: 0.6947\n",
            "Epoch 410/500\n",
            "8/8 [==============================] - 0s 40ms/step - loss: 0.2125 - acc: 0.9156 - val_loss: 3.2889 - val_acc: 0.7105\n",
            "Epoch 411/500\n",
            "8/8 [==============================] - 0s 41ms/step - loss: 0.1930 - acc: 0.9350 - val_loss: 2.8344 - val_acc: 0.7316\n",
            "Epoch 412/500\n",
            "8/8 [==============================] - 0s 42ms/step - loss: 0.2062 - acc: 0.9262 - val_loss: 2.6810 - val_acc: 0.7053\n",
            "Epoch 413/500\n",
            "8/8 [==============================] - 0s 40ms/step - loss: 0.2198 - acc: 0.9279 - val_loss: 2.8088 - val_acc: 0.7263\n",
            "Epoch 414/500\n",
            "8/8 [==============================] - 0s 43ms/step - loss: 0.2033 - acc: 0.9209 - val_loss: 3.3729 - val_acc: 0.6947\n",
            "Epoch 415/500\n",
            "8/8 [==============================] - 0s 42ms/step - loss: 0.2301 - acc: 0.9156 - val_loss: 3.8529 - val_acc: 0.6947\n",
            "Epoch 416/500\n",
            "8/8 [==============================] - 0s 42ms/step - loss: 0.1820 - acc: 0.9315 - val_loss: 3.5754 - val_acc: 0.6947\n",
            "Epoch 417/500\n",
            "8/8 [==============================] - 0s 42ms/step - loss: 0.1731 - acc: 0.9315 - val_loss: 2.6981 - val_acc: 0.7368\n",
            "Epoch 418/500\n",
            "8/8 [==============================] - 0s 41ms/step - loss: 0.1924 - acc: 0.9174 - val_loss: 2.6481 - val_acc: 0.7421\n",
            "Epoch 419/500\n",
            "8/8 [==============================] - 0s 43ms/step - loss: 0.2471 - acc: 0.9033 - val_loss: 2.8927 - val_acc: 0.6947\n",
            "Epoch 420/500\n",
            "8/8 [==============================] - 0s 42ms/step - loss: 0.1696 - acc: 0.9350 - val_loss: 3.1896 - val_acc: 0.7053\n",
            "Epoch 421/500\n",
            "8/8 [==============================] - 0s 41ms/step - loss: 0.1802 - acc: 0.9367 - val_loss: 3.0735 - val_acc: 0.7053\n",
            "Epoch 422/500\n",
            "8/8 [==============================] - 0s 41ms/step - loss: 0.2097 - acc: 0.9069 - val_loss: 3.0742 - val_acc: 0.7105\n",
            "Epoch 423/500\n",
            "8/8 [==============================] - 0s 48ms/step - loss: 0.1971 - acc: 0.9192 - val_loss: 3.2504 - val_acc: 0.7053\n",
            "Epoch 424/500\n",
            "8/8 [==============================] - 0s 41ms/step - loss: 0.1919 - acc: 0.9209 - val_loss: 3.6098 - val_acc: 0.6842\n",
            "Epoch 425/500\n",
            "8/8 [==============================] - 0s 40ms/step - loss: 0.2001 - acc: 0.9156 - val_loss: 3.7649 - val_acc: 0.6895\n",
            "Epoch 426/500\n",
            "8/8 [==============================] - 0s 40ms/step - loss: 0.1931 - acc: 0.9244 - val_loss: 3.7672 - val_acc: 0.6895\n",
            "Epoch 427/500\n",
            "8/8 [==============================] - 0s 41ms/step - loss: 0.1894 - acc: 0.9279 - val_loss: 3.4968 - val_acc: 0.7211\n",
            "Epoch 428/500\n",
            "8/8 [==============================] - 0s 40ms/step - loss: 0.1902 - acc: 0.9244 - val_loss: 3.3879 - val_acc: 0.7211\n",
            "Epoch 429/500\n",
            "8/8 [==============================] - 0s 41ms/step - loss: 0.1503 - acc: 0.9385 - val_loss: 3.5306 - val_acc: 0.7368\n",
            "Epoch 430/500\n",
            "8/8 [==============================] - 0s 41ms/step - loss: 0.1734 - acc: 0.9350 - val_loss: 3.7020 - val_acc: 0.7211\n",
            "Epoch 431/500\n",
            "8/8 [==============================] - 0s 40ms/step - loss: 0.1689 - acc: 0.9438 - val_loss: 3.9465 - val_acc: 0.7053\n",
            "Epoch 432/500\n",
            "8/8 [==============================] - 0s 40ms/step - loss: 0.1718 - acc: 0.9279 - val_loss: 4.0532 - val_acc: 0.7053\n",
            "Epoch 433/500\n",
            "8/8 [==============================] - 0s 42ms/step - loss: 0.2153 - acc: 0.9174 - val_loss: 4.1250 - val_acc: 0.7105\n",
            "Epoch 434/500\n",
            "8/8 [==============================] - 0s 41ms/step - loss: 0.2240 - acc: 0.9139 - val_loss: 4.3606 - val_acc: 0.6947\n",
            "Epoch 435/500\n",
            "8/8 [==============================] - 0s 40ms/step - loss: 0.1679 - acc: 0.9438 - val_loss: 4.1011 - val_acc: 0.7000\n",
            "Epoch 436/500\n",
            "8/8 [==============================] - 0s 44ms/step - loss: 0.2006 - acc: 0.9350 - val_loss: 4.1499 - val_acc: 0.7053\n",
            "Epoch 437/500\n",
            "8/8 [==============================] - 0s 42ms/step - loss: 0.1791 - acc: 0.9350 - val_loss: 3.7120 - val_acc: 0.7368\n",
            "Epoch 438/500\n",
            "8/8 [==============================] - 0s 44ms/step - loss: 0.1915 - acc: 0.9262 - val_loss: 3.4653 - val_acc: 0.7316\n",
            "Epoch 439/500\n",
            "8/8 [==============================] - 0s 44ms/step - loss: 0.1762 - acc: 0.9262 - val_loss: 3.6233 - val_acc: 0.7421\n",
            "Epoch 440/500\n",
            "8/8 [==============================] - 0s 42ms/step - loss: 0.1637 - acc: 0.9438 - val_loss: 4.1129 - val_acc: 0.7263\n",
            "Epoch 441/500\n",
            "8/8 [==============================] - 0s 41ms/step - loss: 0.2183 - acc: 0.9121 - val_loss: 3.2268 - val_acc: 0.6895\n",
            "Epoch 442/500\n",
            "8/8 [==============================] - 0s 45ms/step - loss: 0.6599 - acc: 0.8401 - val_loss: 3.1702 - val_acc: 0.6895\n",
            "Epoch 443/500\n",
            "8/8 [==============================] - 0s 43ms/step - loss: 0.9383 - acc: 0.8120 - val_loss: 2.1893 - val_acc: 0.6316\n",
            "Epoch 444/500\n",
            "8/8 [==============================] - 0s 43ms/step - loss: 0.9928 - acc: 0.7856 - val_loss: 2.2863 - val_acc: 0.6526\n",
            "Epoch 445/500\n",
            "8/8 [==============================] - 0s 46ms/step - loss: 0.6844 - acc: 0.7891 - val_loss: 1.9945 - val_acc: 0.6211\n",
            "Epoch 446/500\n",
            "8/8 [==============================] - 0s 44ms/step - loss: 0.6050 - acc: 0.7961 - val_loss: 1.7922 - val_acc: 0.6421\n",
            "Epoch 447/500\n",
            "8/8 [==============================] - 0s 42ms/step - loss: 0.5830 - acc: 0.7996 - val_loss: 1.6549 - val_acc: 0.6842\n",
            "Epoch 448/500\n",
            "8/8 [==============================] - 0s 44ms/step - loss: 0.5433 - acc: 0.8155 - val_loss: 1.8342 - val_acc: 0.6684\n",
            "Epoch 449/500\n",
            "8/8 [==============================] - 0s 43ms/step - loss: 0.5527 - acc: 0.8120 - val_loss: 1.2649 - val_acc: 0.7105\n",
            "Epoch 450/500\n",
            "8/8 [==============================] - 0s 42ms/step - loss: 0.4318 - acc: 0.8401 - val_loss: 1.3295 - val_acc: 0.6895\n",
            "Epoch 451/500\n",
            "8/8 [==============================] - 0s 47ms/step - loss: 0.3720 - acc: 0.8805 - val_loss: 1.6530 - val_acc: 0.6526\n",
            "Epoch 452/500\n",
            "8/8 [==============================] - 0s 44ms/step - loss: 0.3300 - acc: 0.8928 - val_loss: 1.5522 - val_acc: 0.6842\n",
            "Epoch 453/500\n",
            "8/8 [==============================] - 0s 44ms/step - loss: 0.2974 - acc: 0.8893 - val_loss: 1.5974 - val_acc: 0.7053\n",
            "Epoch 454/500\n",
            "8/8 [==============================] - 0s 39ms/step - loss: 0.2638 - acc: 0.8981 - val_loss: 1.7340 - val_acc: 0.7000\n",
            "Epoch 455/500\n",
            "8/8 [==============================] - 0s 41ms/step - loss: 0.2838 - acc: 0.8998 - val_loss: 1.8623 - val_acc: 0.6947\n",
            "Epoch 456/500\n",
            "8/8 [==============================] - 0s 41ms/step - loss: 0.2575 - acc: 0.9033 - val_loss: 1.9188 - val_acc: 0.7105\n",
            "Epoch 457/500\n",
            "8/8 [==============================] - 0s 43ms/step - loss: 0.2710 - acc: 0.9174 - val_loss: 1.9781 - val_acc: 0.7105\n",
            "Epoch 458/500\n",
            "8/8 [==============================] - 0s 42ms/step - loss: 0.2633 - acc: 0.8875 - val_loss: 2.0759 - val_acc: 0.7158\n",
            "Epoch 459/500\n",
            "8/8 [==============================] - 0s 41ms/step - loss: 0.2315 - acc: 0.9104 - val_loss: 2.1648 - val_acc: 0.7053\n",
            "Epoch 460/500\n",
            "8/8 [==============================] - 0s 47ms/step - loss: 0.2149 - acc: 0.9227 - val_loss: 2.2784 - val_acc: 0.7053\n",
            "Epoch 461/500\n",
            "8/8 [==============================] - 0s 40ms/step - loss: 0.2062 - acc: 0.9315 - val_loss: 2.3737 - val_acc: 0.6842\n",
            "Epoch 462/500\n",
            "8/8 [==============================] - 0s 40ms/step - loss: 0.1853 - acc: 0.9332 - val_loss: 2.3030 - val_acc: 0.7000\n",
            "Epoch 463/500\n",
            "8/8 [==============================] - 0s 42ms/step - loss: 0.1826 - acc: 0.9455 - val_loss: 2.2095 - val_acc: 0.7211\n",
            "Epoch 464/500\n",
            "8/8 [==============================] - 0s 40ms/step - loss: 0.2200 - acc: 0.9104 - val_loss: 2.3308 - val_acc: 0.7105\n",
            "Epoch 465/500\n",
            "8/8 [==============================] - 0s 50ms/step - loss: 0.1889 - acc: 0.9350 - val_loss: 2.5897 - val_acc: 0.7105\n",
            "Epoch 466/500\n",
            "8/8 [==============================] - 0s 50ms/step - loss: 0.1982 - acc: 0.9315 - val_loss: 2.7019 - val_acc: 0.7000\n",
            "Epoch 467/500\n",
            "8/8 [==============================] - 0s 47ms/step - loss: 0.2079 - acc: 0.9121 - val_loss: 2.7671 - val_acc: 0.7158\n",
            "Epoch 468/500\n",
            "8/8 [==============================] - 0s 51ms/step - loss: 0.1913 - acc: 0.9244 - val_loss: 2.8370 - val_acc: 0.7053\n",
            "Epoch 469/500\n",
            "8/8 [==============================] - 0s 42ms/step - loss: 0.2208 - acc: 0.9174 - val_loss: 2.9021 - val_acc: 0.7105\n",
            "Epoch 470/500\n",
            "8/8 [==============================] - 0s 45ms/step - loss: 0.1912 - acc: 0.9209 - val_loss: 2.9402 - val_acc: 0.7105\n",
            "Epoch 471/500\n",
            "8/8 [==============================] - 0s 47ms/step - loss: 0.1682 - acc: 0.9332 - val_loss: 2.9773 - val_acc: 0.7263\n",
            "Epoch 472/500\n",
            "8/8 [==============================] - 0s 43ms/step - loss: 0.2006 - acc: 0.9244 - val_loss: 2.9325 - val_acc: 0.7158\n",
            "Epoch 473/500\n",
            "8/8 [==============================] - 0s 41ms/step - loss: 0.2195 - acc: 0.9244 - val_loss: 2.9087 - val_acc: 0.7000\n",
            "Epoch 474/500\n",
            "8/8 [==============================] - 0s 44ms/step - loss: 0.2450 - acc: 0.9086 - val_loss: 2.8557 - val_acc: 0.7211\n",
            "Epoch 475/500\n",
            "8/8 [==============================] - 0s 41ms/step - loss: 0.1885 - acc: 0.9244 - val_loss: 2.8325 - val_acc: 0.7263\n",
            "Epoch 476/500\n",
            "8/8 [==============================] - 0s 39ms/step - loss: 0.2401 - acc: 0.9086 - val_loss: 2.8359 - val_acc: 0.7263\n",
            "Epoch 477/500\n",
            "8/8 [==============================] - 0s 41ms/step - loss: 0.2105 - acc: 0.9156 - val_loss: 2.8787 - val_acc: 0.7263\n",
            "Epoch 478/500\n",
            "8/8 [==============================] - 0s 40ms/step - loss: 0.2113 - acc: 0.9192 - val_loss: 2.8943 - val_acc: 0.7211\n",
            "Epoch 479/500\n",
            "8/8 [==============================] - 0s 43ms/step - loss: 0.1920 - acc: 0.9350 - val_loss: 2.9929 - val_acc: 0.7211\n",
            "Epoch 480/500\n",
            "8/8 [==============================] - 0s 43ms/step - loss: 0.1904 - acc: 0.9209 - val_loss: 3.1600 - val_acc: 0.7000\n",
            "Epoch 481/500\n",
            "8/8 [==============================] - 0s 41ms/step - loss: 0.1886 - acc: 0.9209 - val_loss: 3.1050 - val_acc: 0.7105\n",
            "Epoch 482/500\n",
            "8/8 [==============================] - 0s 42ms/step - loss: 0.2342 - acc: 0.9156 - val_loss: 2.9760 - val_acc: 0.7158\n",
            "Epoch 483/500\n",
            "8/8 [==============================] - 0s 45ms/step - loss: 0.1991 - acc: 0.9174 - val_loss: 2.9462 - val_acc: 0.7263\n",
            "Epoch 484/500\n",
            "8/8 [==============================] - 0s 37ms/step - loss: 0.1894 - acc: 0.9262 - val_loss: 2.9888 - val_acc: 0.7368\n",
            "Epoch 485/500\n",
            "8/8 [==============================] - 0s 42ms/step - loss: 0.1924 - acc: 0.9279 - val_loss: 3.1713 - val_acc: 0.7368\n",
            "Epoch 486/500\n",
            "8/8 [==============================] - 0s 42ms/step - loss: 0.1687 - acc: 0.9420 - val_loss: 3.1703 - val_acc: 0.7211\n",
            "Epoch 487/500\n",
            "8/8 [==============================] - 0s 44ms/step - loss: 0.1616 - acc: 0.9473 - val_loss: 3.2807 - val_acc: 0.7105\n",
            "Epoch 488/500\n",
            "8/8 [==============================] - 0s 42ms/step - loss: 0.1712 - acc: 0.9279 - val_loss: 3.4032 - val_acc: 0.7105\n",
            "Epoch 489/500\n",
            "8/8 [==============================] - 0s 43ms/step - loss: 0.1751 - acc: 0.9455 - val_loss: 3.4994 - val_acc: 0.7053\n",
            "Epoch 490/500\n",
            "8/8 [==============================] - 0s 43ms/step - loss: 0.1736 - acc: 0.9367 - val_loss: 3.4415 - val_acc: 0.7211\n",
            "Epoch 491/500\n",
            "8/8 [==============================] - 0s 41ms/step - loss: 0.2388 - acc: 0.9016 - val_loss: 3.3875 - val_acc: 0.7158\n",
            "Epoch 492/500\n",
            "8/8 [==============================] - 0s 39ms/step - loss: 0.1693 - acc: 0.9367 - val_loss: 3.2023 - val_acc: 0.7421\n",
            "Epoch 493/500\n",
            "8/8 [==============================] - 0s 42ms/step - loss: 0.1857 - acc: 0.9227 - val_loss: 3.0518 - val_acc: 0.7368\n",
            "Epoch 494/500\n",
            "8/8 [==============================] - 0s 40ms/step - loss: 0.1854 - acc: 0.9332 - val_loss: 3.1087 - val_acc: 0.7368\n",
            "Epoch 495/500\n",
            "8/8 [==============================] - 0s 41ms/step - loss: 0.2097 - acc: 0.9104 - val_loss: 2.9782 - val_acc: 0.7368\n",
            "Epoch 496/500\n",
            "8/8 [==============================] - 0s 43ms/step - loss: 0.2052 - acc: 0.9227 - val_loss: 3.0163 - val_acc: 0.7368\n",
            "Epoch 497/500\n",
            "8/8 [==============================] - 0s 41ms/step - loss: 0.1852 - acc: 0.9297 - val_loss: 3.1414 - val_acc: 0.7368\n",
            "Epoch 498/500\n",
            "8/8 [==============================] - 0s 39ms/step - loss: 0.2113 - acc: 0.9209 - val_loss: 3.2378 - val_acc: 0.7421\n",
            "Epoch 499/500\n",
            "8/8 [==============================] - 0s 45ms/step - loss: 0.2076 - acc: 0.9227 - val_loss: 3.3518 - val_acc: 0.7211\n",
            "Epoch 500/500\n",
            "8/8 [==============================] - 0s 38ms/step - loss: 0.1762 - acc: 0.9297 - val_loss: 3.4722 - val_acc: 0.7158\n"
          ]
        }
      ]
    },
    {
      "cell_type": "markdown",
      "source": [
        "Model Evaluation (train + validation set)"
      ],
      "metadata": {
        "id": "lqRinLFi6Ww0"
      }
    },
    {
      "cell_type": "code",
      "source": [
        "#Adapted from Deep Learning with Python by Francois Chollet, 2018\n",
        "history_dict=history.history\n",
        "loss_values=history_dict['loss']\n",
        "acc_values=history_dict['acc']\n",
        "val_loss_values = history_dict['val_loss']\n",
        "val_acc_values=history_dict['val_acc']\n",
        "epochs=range(1,501)\n",
        "fig,(ax1,ax2)=plt.subplots(1,2,figsize=(15,5))\n",
        "ax1.plot(epochs,loss_values,'co',label='Training Loss')\n",
        "ax1.plot(epochs,val_loss_values,'m', label='Validation Loss')\n",
        "ax1.set_title('Training and validation loss')\n",
        "ax1.set_xlabel('Epochs')\n",
        "ax1.set_ylabel('Loss')\n",
        "ax1.legend()\n",
        "ax2.plot(epochs,acc_values,'co', label='Training accuracy')\n",
        "ax2.plot(epochs,val_acc_values,'m',label='Validation accuracy')\n",
        "ax2.set_title('Training and validation accuracy')\n",
        "ax2.set_xlabel('Epochs')\n",
        "ax2.set_ylabel('Accuracy')\n",
        "ax2.legend()\n",
        "plt.show()"
      ],
      "metadata": {
        "id": "7sVRBuLh5dMZ",
        "colab": {
          "base_uri": "https://localhost:8080/",
          "height": 350
        },
        "outputId": "2df99836-4106-4a04-bf26-5836c48e916c"
      },
      "execution_count": null,
      "outputs": [
        {
          "output_type": "display_data",
          "data": {
            "text/plain": [
              "<Figure size 1080x360 with 2 Axes>"
            ],
            "image/png": "[encoded data removed]"
          },
          "metadata": {
            "needs_background": "light"
          }
        }
      ]
    },
    {
      "cell_type": "markdown",
      "source": [
        "Overfitting! and not much accuracy improvement. Reduce epochs:"
      ],
      "metadata": {
        "id": "hYanQi1Cm5T3"
      }
    },
    {
      "cell_type": "code",
      "source": [
        "input_shape=(40,130)\n",
        "model = keras.Sequential()\n",
        "model.add(LSTM(40,input_shape=input_shape))\n",
        "model.add(Dropout(0.2))\n",
        "model.add(Dense(40, activation='relu'))\n",
        "model.add(Dense(20, activation='relu'))\n",
        "model.add(Dropout(0.4))\n",
        "model.add(Dense(10, activation='relu'))\n",
        "model.add(Dropout(0.4))\n",
        "model.add(Dense(8, activation='softmax'))\n",
        "model.summary()"
      ],
      "metadata": {
        "colab": {
          "base_uri": "https://localhost:8080/"
        },
        "id": "pfK-KyZhmsqg",
        "outputId": "44bd401f-46d3-4e12-85c6-a554ea347e60"
      },
      "execution_count": null,
      "outputs": [
        {
          "output_type": "stream",
          "name": "stdout",
          "text": [
            "Model: \"sequential_8\"\n",
            "_________________________________________________________________\n",
            " Layer (type)                Output Shape              Param #   \n",
            "=================================================================\n",
            " lstm_8 (LSTM)               (None, 40)                27360     \n",
            "                                                                 \n",
            " dropout_23 (Dropout)        (None, 40)                0         \n",
            "                                                                 \n",
            " dense_31 (Dense)            (None, 40)                1640      \n",
            "                                                                 \n",
            " dense_32 (Dense)            (None, 20)                820       \n",
            "                                                                 \n",
            " dropout_24 (Dropout)        (None, 20)                0         \n",
            "                                                                 \n",
            " dense_33 (Dense)            (None, 10)                210       \n",
            "                                                                 \n",
            " dropout_25 (Dropout)        (None, 10)                0         \n",
            "                                                                 \n",
            " dense_34 (Dense)            (None, 8)                 88        \n",
            "                                                                 \n",
            "=================================================================\n",
            "Total params: 30,118\n",
            "Trainable params: 30,118\n",
            "Non-trainable params: 0\n",
            "_________________________________________________________________\n"
          ]
        }
      ]
    },
    {
      "cell_type": "code",
      "source": [
        "import tensorflow as tf"
      ],
      "metadata": {
        "id": "rgchLVgmpq2j"
      },
      "execution_count": null,
      "outputs": []
    },
    {
      "cell_type": "code",
      "source": [
        "def scheduler(epoch, lr):\n",
        "  if epoch < 50:\n",
        "    return lr\n",
        "  else:\n",
        "    return lr * tf.math.exp(-0.1)"
      ],
      "metadata": {
        "id": "29QlpNj3plLl"
      },
      "execution_count": null,
      "outputs": []
    },
    {
      "cell_type": "code",
      "source": [
        "model.compile(optimizer=keras.optimizers.Adam(),loss='SparseCategoricalCrossentropy',metrics=['acc'])"
      ],
      "metadata": {
        "id": "ugSmxyhfm3qH"
      },
      "execution_count": null,
      "outputs": []
    },
    {
      "cell_type": "code",
      "source": [
        "callback = tf.keras.callbacks.LearningRateScheduler(scheduler)"
      ],
      "metadata": {
        "id": "6H5slxWlpzwL"
      },
      "execution_count": null,
      "outputs": []
    },
    {
      "cell_type": "code",
      "source": [
        "history = model.fit(X_train, y_train, epochs=50, batch_size=72, \n",
        "                    validation_data=(X_val, y_val), shuffle=False)"
      ],
      "metadata": {
        "colab": {
          "base_uri": "https://localhost:8080/"
        },
        "id": "yizIoK6KmzT3",
        "outputId": "e16abcc5-b453-4fcc-b4a8-eb4594bb8aec"
      },
      "execution_count": null,
      "outputs": [
        {
          "output_type": "stream",
          "name": "stdout",
          "text": [
            "Epoch 1/50\n",
            "8/8 [==============================] - 3s 118ms/step - loss: 2.0796 - acc: 0.1494 - val_loss: 2.0683 - val_acc: 0.1526\n",
            "Epoch 2/50\n",
            "8/8 [==============================] - 0s 39ms/step - loss: 2.0578 - acc: 0.1863 - val_loss: 2.0496 - val_acc: 0.1579\n",
            "Epoch 3/50\n",
            "8/8 [==============================] - 0s 36ms/step - loss: 2.0369 - acc: 0.1898 - val_loss: 2.0325 - val_acc: 0.1579\n",
            "Epoch 4/50\n",
            "8/8 [==============================] - 0s 37ms/step - loss: 2.0269 - acc: 0.1793 - val_loss: 2.0188 - val_acc: 0.1579\n",
            "Epoch 5/50\n",
            "8/8 [==============================] - 0s 37ms/step - loss: 2.0246 - acc: 0.1810 - val_loss: 2.0104 - val_acc: 0.1579\n",
            "Epoch 6/50\n",
            "8/8 [==============================] - 0s 36ms/step - loss: 1.9958 - acc: 0.1810 - val_loss: 2.0014 - val_acc: 0.1579\n",
            "Epoch 7/50\n",
            "8/8 [==============================] - 0s 36ms/step - loss: 2.0029 - acc: 0.1863 - val_loss: 1.9904 - val_acc: 0.1579\n",
            "Epoch 8/50\n",
            "8/8 [==============================] - 0s 34ms/step - loss: 1.9751 - acc: 0.1916 - val_loss: 1.9774 - val_acc: 0.1579\n",
            "Epoch 9/50\n",
            "8/8 [==============================] - 0s 35ms/step - loss: 1.9793 - acc: 0.1687 - val_loss: 1.9679 - val_acc: 0.1579\n",
            "Epoch 10/50\n",
            "8/8 [==============================] - 0s 33ms/step - loss: 1.9554 - acc: 0.1933 - val_loss: 1.9531 - val_acc: 0.1579\n",
            "Epoch 11/50\n",
            "8/8 [==============================] - 0s 34ms/step - loss: 1.9436 - acc: 0.2250 - val_loss: 1.9352 - val_acc: 0.1579\n",
            "Epoch 12/50\n",
            "8/8 [==============================] - 0s 36ms/step - loss: 1.9301 - acc: 0.2179 - val_loss: 1.9183 - val_acc: 0.1632\n",
            "Epoch 13/50\n",
            "8/8 [==============================] - 0s 37ms/step - loss: 1.9090 - acc: 0.2091 - val_loss: 1.8886 - val_acc: 0.1684\n",
            "Epoch 14/50\n",
            "8/8 [==============================] - 0s 35ms/step - loss: 1.8940 - acc: 0.2285 - val_loss: 1.8428 - val_acc: 0.2474\n",
            "Epoch 15/50\n",
            "8/8 [==============================] - 0s 35ms/step - loss: 1.8466 - acc: 0.2671 - val_loss: 1.7884 - val_acc: 0.2158\n",
            "Epoch 16/50\n",
            "8/8 [==============================] - 0s 37ms/step - loss: 1.8315 - acc: 0.2513 - val_loss: 1.7418 - val_acc: 0.2789\n",
            "Epoch 17/50\n",
            "8/8 [==============================] - 0s 35ms/step - loss: 1.7838 - acc: 0.2566 - val_loss: 1.6840 - val_acc: 0.3263\n",
            "Epoch 18/50\n",
            "8/8 [==============================] - 0s 35ms/step - loss: 1.7799 - acc: 0.2671 - val_loss: 1.6664 - val_acc: 0.3526\n",
            "Epoch 19/50\n",
            "8/8 [==============================] - 0s 34ms/step - loss: 1.7624 - acc: 0.2847 - val_loss: 1.6199 - val_acc: 0.4211\n",
            "Epoch 20/50\n",
            "8/8 [==============================] - 0s 37ms/step - loss: 1.7270 - acc: 0.2882 - val_loss: 1.5550 - val_acc: 0.4158\n",
            "Epoch 21/50\n",
            "8/8 [==============================] - 0s 34ms/step - loss: 1.7285 - acc: 0.2689 - val_loss: 1.5370 - val_acc: 0.4526\n",
            "Epoch 22/50\n",
            "8/8 [==============================] - 0s 41ms/step - loss: 1.6859 - acc: 0.2917 - val_loss: 1.5167 - val_acc: 0.4632\n",
            "Epoch 23/50\n",
            "8/8 [==============================] - 0s 37ms/step - loss: 1.6691 - acc: 0.3181 - val_loss: 1.4708 - val_acc: 0.4737\n",
            "Epoch 24/50\n",
            "8/8 [==============================] - 0s 35ms/step - loss: 1.6316 - acc: 0.3339 - val_loss: 1.4467 - val_acc: 0.5000\n",
            "Epoch 25/50\n",
            "8/8 [==============================] - 0s 36ms/step - loss: 1.6179 - acc: 0.3427 - val_loss: 1.4091 - val_acc: 0.4474\n",
            "Epoch 26/50\n",
            "8/8 [==============================] - 0s 35ms/step - loss: 1.6111 - acc: 0.3620 - val_loss: 1.4217 - val_acc: 0.5684\n",
            "Epoch 27/50\n",
            "8/8 [==============================] - 0s 36ms/step - loss: 1.5648 - acc: 0.3884 - val_loss: 1.3486 - val_acc: 0.5526\n",
            "Epoch 28/50\n",
            "8/8 [==============================] - 0s 36ms/step - loss: 1.5605 - acc: 0.3656 - val_loss: 1.3214 - val_acc: 0.5684\n",
            "Epoch 29/50\n",
            "8/8 [==============================] - 0s 35ms/step - loss: 1.4957 - acc: 0.3919 - val_loss: 1.2853 - val_acc: 0.6211\n",
            "Epoch 30/50\n",
            "8/8 [==============================] - 0s 37ms/step - loss: 1.4715 - acc: 0.4288 - val_loss: 1.2574 - val_acc: 0.5632\n",
            "Epoch 31/50\n",
            "8/8 [==============================] - 0s 37ms/step - loss: 1.4939 - acc: 0.4200 - val_loss: 1.2028 - val_acc: 0.5947\n",
            "Epoch 32/50\n",
            "8/8 [==============================] - 0s 37ms/step - loss: 1.4007 - acc: 0.4517 - val_loss: 1.1991 - val_acc: 0.5895\n",
            "Epoch 33/50\n",
            "8/8 [==============================] - 0s 39ms/step - loss: 1.4130 - acc: 0.4165 - val_loss: 1.1544 - val_acc: 0.6474\n",
            "Epoch 34/50\n",
            "8/8 [==============================] - 0s 38ms/step - loss: 1.3862 - acc: 0.4464 - val_loss: 1.1488 - val_acc: 0.6421\n",
            "Epoch 35/50\n",
            "8/8 [==============================] - 0s 36ms/step - loss: 1.3600 - acc: 0.4569 - val_loss: 1.1209 - val_acc: 0.6316\n",
            "Epoch 36/50\n",
            "8/8 [==============================] - 0s 34ms/step - loss: 1.3391 - acc: 0.4745 - val_loss: 1.0920 - val_acc: 0.6368\n",
            "Epoch 37/50\n",
            "8/8 [==============================] - 0s 35ms/step - loss: 1.3463 - acc: 0.4605 - val_loss: 1.0626 - val_acc: 0.6421\n",
            "Epoch 38/50\n",
            "8/8 [==============================] - 0s 38ms/step - loss: 1.2737 - acc: 0.4745 - val_loss: 1.0392 - val_acc: 0.6579\n",
            "Epoch 39/50\n",
            "8/8 [==============================] - 0s 35ms/step - loss: 1.3258 - acc: 0.4692 - val_loss: 1.0224 - val_acc: 0.6632\n",
            "Epoch 40/50\n",
            "8/8 [==============================] - 0s 37ms/step - loss: 1.2487 - acc: 0.5114 - val_loss: 1.0433 - val_acc: 0.6684\n",
            "Epoch 41/50\n",
            "8/8 [==============================] - 0s 37ms/step - loss: 1.2967 - acc: 0.4657 - val_loss: 1.0748 - val_acc: 0.6263\n",
            "Epoch 42/50\n",
            "8/8 [==============================] - 0s 37ms/step - loss: 1.2100 - acc: 0.5272 - val_loss: 0.9796 - val_acc: 0.6737\n",
            "Epoch 43/50\n",
            "8/8 [==============================] - 0s 35ms/step - loss: 1.2480 - acc: 0.4974 - val_loss: 0.9946 - val_acc: 0.6789\n",
            "Epoch 44/50\n",
            "8/8 [==============================] - 0s 36ms/step - loss: 1.1959 - acc: 0.5237 - val_loss: 0.9778 - val_acc: 0.7000\n",
            "Epoch 45/50\n",
            "8/8 [==============================] - 0s 37ms/step - loss: 1.1670 - acc: 0.4921 - val_loss: 0.9436 - val_acc: 0.6895\n",
            "Epoch 46/50\n",
            "8/8 [==============================] - 0s 36ms/step - loss: 1.1471 - acc: 0.5272 - val_loss: 0.9236 - val_acc: 0.7316\n",
            "Epoch 47/50\n",
            "8/8 [==============================] - 0s 36ms/step - loss: 1.1596 - acc: 0.5079 - val_loss: 0.9467 - val_acc: 0.6947\n",
            "Epoch 48/50\n",
            "8/8 [==============================] - 0s 39ms/step - loss: 1.1597 - acc: 0.5431 - val_loss: 1.0490 - val_acc: 0.6474\n",
            "Epoch 49/50\n",
            "8/8 [==============================] - 0s 37ms/step - loss: 1.1641 - acc: 0.5343 - val_loss: 0.9589 - val_acc: 0.6211\n",
            "Epoch 50/50\n",
            "8/8 [==============================] - 0s 35ms/step - loss: 1.0615 - acc: 0.5852 - val_loss: 0.9355 - val_acc: 0.6842\n"
          ]
        }
      ]
    },
    {
      "cell_type": "code",
      "source": [
        "#Adapted from Deep Learning with Python by Francois Chollet, 2018\n",
        "history_dict=history.history\n",
        "loss_values=history_dict['loss']\n",
        "acc_values=history_dict['acc']\n",
        "val_loss_values = history_dict['val_loss']\n",
        "val_acc_values=history_dict['val_acc']\n",
        "epochs=range(1,51)\n",
        "fig,(ax1,ax2)=plt.subplots(1,2,figsize=(15,5))\n",
        "ax1.plot(epochs,loss_values,'co',label='Training Loss')\n",
        "ax1.plot(epochs,val_loss_values,'m', label='Validation Loss')\n",
        "ax1.set_title('Training and validation loss')\n",
        "ax1.set_xlabel('Epochs')\n",
        "ax1.set_ylabel('Loss')\n",
        "ax1.legend()\n",
        "ax2.plot(epochs,acc_values,'co', label='Training accuracy')\n",
        "ax2.plot(epochs,val_acc_values,'m',label='Validation accuracy')\n",
        "ax2.set_title('Training and validation accuracy')\n",
        "ax2.set_xlabel('Epochs')\n",
        "ax2.set_ylabel('Accuracy')\n",
        "ax2.legend()\n",
        "plt.show()"
      ],
      "metadata": {
        "colab": {
          "base_uri": "https://localhost:8080/",
          "height": 350
        },
        "id": "VciHrV6cnbhO",
        "outputId": "bf9049a6-16ee-44aa-8229-3b81d4081adc"
      },
      "execution_count": null,
      "outputs": [
        {
          "output_type": "display_data",
          "data": {
            "text/plain": [
              "<Figure size 1080x360 with 2 Axes>"
            ],
            "image/png": "[encoded data removed]"
          },
          "metadata": {
            "needs_background": "light"
          }
        }
      ]
    },
    {
      "cell_type": "code",
      "source": [
        "history2 = model.fit(X_train, y_train, epochs=50, batch_size=72, \n",
        "                    validation_data=(X_val, y_val), shuffle=False)"
      ],
      "metadata": {
        "colab": {
          "base_uri": "https://localhost:8080/"
        },
        "id": "sCMdx_QMr6hj",
        "outputId": "e1c03370-fc9a-482a-be5e-057411d6f057"
      },
      "execution_count": null,
      "outputs": [
        {
          "output_type": "stream",
          "name": "stdout",
          "text": [
            "Epoch 1/50\n",
            "8/8 [==============================] - 0s 44ms/step - loss: 1.1018 - acc: 0.5536 - val_loss: 0.9329 - val_acc: 0.6737\n",
            "Epoch 2/50\n",
            "8/8 [==============================] - 0s 37ms/step - loss: 1.0612 - acc: 0.5958 - val_loss: 0.9361 - val_acc: 0.6684\n",
            "Epoch 3/50\n",
            "8/8 [==============================] - 0s 37ms/step - loss: 1.0357 - acc: 0.5501 - val_loss: 0.8661 - val_acc: 0.6684\n",
            "Epoch 4/50\n",
            "8/8 [==============================] - 0s 37ms/step - loss: 1.0830 - acc: 0.5641 - val_loss: 0.8715 - val_acc: 0.7368\n",
            "Epoch 5/50\n",
            "8/8 [==============================] - 0s 36ms/step - loss: 1.0100 - acc: 0.5835 - val_loss: 0.8797 - val_acc: 0.7053\n",
            "Epoch 6/50\n",
            "8/8 [==============================] - 0s 39ms/step - loss: 0.9991 - acc: 0.6151 - val_loss: 0.8782 - val_acc: 0.6737\n",
            "Epoch 7/50\n",
            "8/8 [==============================] - 0s 45ms/step - loss: 0.9871 - acc: 0.5905 - val_loss: 0.8880 - val_acc: 0.7474\n",
            "Epoch 8/50\n",
            "8/8 [==============================] - 0s 57ms/step - loss: 1.0689 - acc: 0.5923 - val_loss: 0.8740 - val_acc: 0.7053\n",
            "Epoch 9/50\n",
            "8/8 [==============================] - 0s 57ms/step - loss: 0.9813 - acc: 0.6169 - val_loss: 0.8546 - val_acc: 0.7211\n",
            "Epoch 10/50\n",
            "8/8 [==============================] - 1s 90ms/step - loss: 0.9938 - acc: 0.6028 - val_loss: 0.9779 - val_acc: 0.6684\n",
            "Epoch 11/50\n",
            "8/8 [==============================] - 1s 94ms/step - loss: 0.9510 - acc: 0.6134 - val_loss: 0.8803 - val_acc: 0.7211\n",
            "Epoch 12/50\n",
            "8/8 [==============================] - 0s 61ms/step - loss: 0.9349 - acc: 0.6028 - val_loss: 0.8420 - val_acc: 0.7105\n",
            "Epoch 13/50\n",
            "8/8 [==============================] - 0s 38ms/step - loss: 0.8974 - acc: 0.6380 - val_loss: 0.8474 - val_acc: 0.7053\n",
            "Epoch 14/50\n",
            "8/8 [==============================] - 0s 40ms/step - loss: 0.9140 - acc: 0.6450 - val_loss: 0.9215 - val_acc: 0.7263\n",
            "Epoch 15/50\n",
            "8/8 [==============================] - 0s 40ms/step - loss: 0.9008 - acc: 0.6450 - val_loss: 0.8899 - val_acc: 0.7211\n",
            "Epoch 16/50\n",
            "8/8 [==============================] - 0s 34ms/step - loss: 0.8611 - acc: 0.6327 - val_loss: 0.8414 - val_acc: 0.7263\n",
            "Epoch 17/50\n",
            "8/8 [==============================] - 0s 35ms/step - loss: 0.8882 - acc: 0.6362 - val_loss: 0.8730 - val_acc: 0.6895\n",
            "Epoch 18/50\n",
            "8/8 [==============================] - 0s 36ms/step - loss: 0.8945 - acc: 0.6503 - val_loss: 0.9170 - val_acc: 0.7211\n",
            "Epoch 19/50\n",
            "8/8 [==============================] - 0s 37ms/step - loss: 0.8606 - acc: 0.6309 - val_loss: 0.9962 - val_acc: 0.6947\n",
            "Epoch 20/50\n",
            "8/8 [==============================] - 0s 42ms/step - loss: 0.8634 - acc: 0.6503 - val_loss: 0.8772 - val_acc: 0.6947\n",
            "Epoch 21/50\n",
            "8/8 [==============================] - 0s 38ms/step - loss: 0.8303 - acc: 0.6573 - val_loss: 0.9373 - val_acc: 0.7053\n",
            "Epoch 22/50\n",
            "8/8 [==============================] - 0s 37ms/step - loss: 0.7728 - acc: 0.6995 - val_loss: 0.8665 - val_acc: 0.7421\n",
            "Epoch 23/50\n",
            "8/8 [==============================] - 0s 35ms/step - loss: 0.8331 - acc: 0.6784 - val_loss: 0.8276 - val_acc: 0.7526\n",
            "Epoch 24/50\n",
            "8/8 [==============================] - 0s 34ms/step - loss: 0.7890 - acc: 0.6872 - val_loss: 0.8750 - val_acc: 0.7368\n",
            "Epoch 25/50\n",
            "8/8 [==============================] - 0s 36ms/step - loss: 0.7743 - acc: 0.6872 - val_loss: 0.8868 - val_acc: 0.6895\n",
            "Epoch 26/50\n",
            "8/8 [==============================] - 0s 37ms/step - loss: 0.7063 - acc: 0.6995 - val_loss: 0.9603 - val_acc: 0.6737\n",
            "Epoch 27/50\n",
            "8/8 [==============================] - 0s 38ms/step - loss: 0.8193 - acc: 0.6485 - val_loss: 0.8920 - val_acc: 0.7316\n",
            "Epoch 28/50\n",
            "8/8 [==============================] - 0s 37ms/step - loss: 0.6981 - acc: 0.7065 - val_loss: 0.8873 - val_acc: 0.7105\n",
            "Epoch 29/50\n",
            "8/8 [==============================] - 0s 38ms/step - loss: 0.7084 - acc: 0.6942 - val_loss: 0.9715 - val_acc: 0.7053\n",
            "Epoch 30/50\n",
            "8/8 [==============================] - 0s 36ms/step - loss: 0.7032 - acc: 0.7012 - val_loss: 0.9485 - val_acc: 0.7263\n",
            "Epoch 31/50\n",
            "8/8 [==============================] - 0s 36ms/step - loss: 0.7507 - acc: 0.6960 - val_loss: 0.9913 - val_acc: 0.6895\n",
            "Epoch 32/50\n",
            "8/8 [==============================] - 0s 35ms/step - loss: 0.6867 - acc: 0.6995 - val_loss: 0.9252 - val_acc: 0.7263\n",
            "Epoch 33/50\n",
            "8/8 [==============================] - 0s 37ms/step - loss: 0.7587 - acc: 0.7012 - val_loss: 0.9048 - val_acc: 0.7158\n",
            "Epoch 34/50\n",
            "8/8 [==============================] - 0s 38ms/step - loss: 0.6998 - acc: 0.6942 - val_loss: 0.9644 - val_acc: 0.7211\n",
            "Epoch 35/50\n",
            "8/8 [==============================] - 0s 40ms/step - loss: 0.6676 - acc: 0.7346 - val_loss: 0.9208 - val_acc: 0.7368\n",
            "Epoch 36/50\n",
            "8/8 [==============================] - 0s 36ms/step - loss: 0.6926 - acc: 0.6907 - val_loss: 0.9584 - val_acc: 0.7158\n",
            "Epoch 37/50\n",
            "8/8 [==============================] - 0s 37ms/step - loss: 0.6545 - acc: 0.7118 - val_loss: 0.9713 - val_acc: 0.7158\n",
            "Epoch 38/50\n",
            "8/8 [==============================] - 0s 37ms/step - loss: 0.6812 - acc: 0.7469 - val_loss: 1.0844 - val_acc: 0.6842\n",
            "Epoch 39/50\n",
            "8/8 [==============================] - 0s 36ms/step - loss: 0.6726 - acc: 0.7083 - val_loss: 1.0253 - val_acc: 0.6895\n",
            "Epoch 40/50\n",
            "8/8 [==============================] - 0s 38ms/step - loss: 0.7317 - acc: 0.6995 - val_loss: 1.1317 - val_acc: 0.6789\n",
            "Epoch 41/50\n",
            "8/8 [==============================] - 0s 39ms/step - loss: 0.7517 - acc: 0.7118 - val_loss: 1.0088 - val_acc: 0.7105\n",
            "Epoch 42/50\n",
            "8/8 [==============================] - 0s 38ms/step - loss: 0.7180 - acc: 0.7065 - val_loss: 1.0008 - val_acc: 0.6842\n",
            "Epoch 43/50\n",
            "8/8 [==============================] - 0s 40ms/step - loss: 0.6584 - acc: 0.7206 - val_loss: 0.9657 - val_acc: 0.7263\n",
            "Epoch 44/50\n",
            "8/8 [==============================] - 0s 39ms/step - loss: 0.6573 - acc: 0.7293 - val_loss: 0.9651 - val_acc: 0.7105\n",
            "Epoch 45/50\n",
            "8/8 [==============================] - 0s 40ms/step - loss: 0.6357 - acc: 0.7311 - val_loss: 0.9729 - val_acc: 0.7421\n",
            "Epoch 46/50\n",
            "8/8 [==============================] - 0s 38ms/step - loss: 0.6633 - acc: 0.7311 - val_loss: 0.9488 - val_acc: 0.7105\n",
            "Epoch 47/50\n",
            "8/8 [==============================] - 0s 43ms/step - loss: 0.6437 - acc: 0.7329 - val_loss: 0.9832 - val_acc: 0.7368\n",
            "Epoch 48/50\n",
            "8/8 [==============================] - 0s 39ms/step - loss: 0.6590 - acc: 0.7381 - val_loss: 1.0479 - val_acc: 0.7316\n",
            "Epoch 49/50\n",
            "8/8 [==============================] - 0s 35ms/step - loss: 0.5980 - acc: 0.7540 - val_loss: 1.0193 - val_acc: 0.7316\n",
            "Epoch 50/50\n",
            "8/8 [==============================] - 0s 40ms/step - loss: 0.6029 - acc: 0.7522 - val_loss: 1.0012 - val_acc: 0.7316\n"
          ]
        }
      ]
    },
    {
      "cell_type": "code",
      "source": [
        "#Adapted from Deep Learning with Python by Francois Chollet, 2018\n",
        "history_dict=history2.history\n",
        "loss_values=history_dict['loss']\n",
        "acc_values=history_dict['acc']\n",
        "val_loss_values = history_dict['val_loss']\n",
        "val_acc_values=history_dict['val_acc']\n",
        "epochs=range(1,51)\n",
        "fig,(ax1,ax2)=plt.subplots(1,2,figsize=(15,5))\n",
        "ax1.plot(epochs,loss_values,'co',label='Training Loss')\n",
        "ax1.plot(epochs,val_loss_values,'m', label='Validation Loss')\n",
        "ax1.set_title('Training and validation loss')\n",
        "ax1.set_xlabel('Epochs')\n",
        "ax1.set_ylabel('Loss')\n",
        "ax1.legend()\n",
        "ax2.plot(epochs,acc_values,'co', label='Training accuracy')\n",
        "ax2.plot(epochs,val_acc_values,'m',label='Validation accuracy')\n",
        "ax2.set_title('Training and validation accuracy')\n",
        "ax2.set_xlabel('Epochs')\n",
        "ax2.set_ylabel('Accuracy')\n",
        "ax2.legend()\n",
        "plt.show()"
      ],
      "metadata": {
        "colab": {
          "base_uri": "https://localhost:8080/",
          "height": 350
        },
        "id": "G_Qv-pO9sC-T",
        "outputId": "205465e2-7eb5-4492-b3a3-7b54948c0225"
      },
      "execution_count": null,
      "outputs": [
        {
          "output_type": "display_data",
          "data": {
            "text/plain": [
              "<Figure size 1080x360 with 2 Axes>"
            ],
            "image/png": "[encoded data removed]"
          },
          "metadata": {
            "needs_background": "light"
          }
        }
      ]
    },
    {
      "cell_type": "code",
      "source": [
        "TrainLoss, Trainacc = model.evaluate(X_train,y_train)\n",
        "TestLoss, Testacc = model.evaluate(X_test, y_test)\n",
        "y_pred=model.predict(X_test)\n",
        "print('Confusion_matrix: ',tf.math.confusion_matrix(y_test, np.argmax(y_pred,axis=1)))"
      ],
      "metadata": {
        "id": "vZ0Lniwo5f8F",
        "colab": {
          "base_uri": "https://localhost:8080/"
        },
        "outputId": "1e15511f-70e7-4c0c-b706-8deb9cc1218a"
      },
      "execution_count": null,
      "outputs": [
        {
          "output_type": "stream",
          "name": "stdout",
          "text": [
            "18/18 [==============================] - 0s 8ms/step - loss: 0.1647 - acc: 0.9719\n",
            "8/8 [==============================] - 0s 8ms/step - loss: 1.0413 - acc: 0.7391\n",
            "8/8 [==============================] - 1s 9ms/step\n",
            "Confusion_matrix:  tf.Tensor(\n",
            "[[ 0  0  0  0  0  0  0]\n",
            " [ 0 20  0  0  1  2  0]\n",
            " [ 0  0 40  5  0  0  1]\n",
            " [ 0  0  4 35  0  0  7]\n",
            " [ 0  0  3  0 29  4 10]\n",
            " [ 0  0  0  0  3 32 11]\n",
            " [ 0  0  0  2  5  8 31]], shape=(7, 7), dtype=int32)\n"
          ]
        }
      ]
    },
    {
      "cell_type": "code",
      "source": [
        "model_name = 'RNN - Emotion_Voice_Detection_Model_RAVDESS_12-17.h5'\n",
        "save_dir = '/content/drive/MyDrive/Junior Year 2022-2023/Adv Topics in DS/Final Project'\n",
        "# Save model and weights\n",
        "if not os.path.isdir(save_dir):\n",
        "    os.makedirs(save_dir)\n",
        "model_path = os.path.join(save_dir, model_name)\n",
        "model.save(model_path)\n",
        "print('Saved trained model at %s ' % model_path)"
      ],
      "metadata": {
        "id": "cw1lDjMg5f9P",
        "colab": {
          "base_uri": "https://localhost:8080/"
        },
        "outputId": "1105c386-6caa-4e6a-8674-fb542f2f9ac8"
      },
      "execution_count": null,
      "outputs": [
        {
          "output_type": "stream",
          "name": "stdout",
          "text": [
            "Saved trained model at /content/drive/MyDrive/Junior Year 2022-2023/Adv Topics in DS/Final Project/RNN - Emotion_Voice_Detection_Model_RAVDESS_12-17.h5 \n"
          ]
        }
      ]
    },
    {
      "cell_type": "code",
      "source": [
        "loaded_model = keras.models.load_model('/content/drive/MyDrive/Junior Year 2022-2023/Adv Topics in DS/Final Project/RNN - Emotion_Voice_Detection_Model_RAVDESS_12-17.h5')\n",
        "loaded_model.summary()"
      ],
      "metadata": {
        "id": "8DCS0zsx5gA6",
        "colab": {
          "base_uri": "https://localhost:8080/"
        },
        "outputId": "560f48de-fce8-4c30-ee09-e2fae053058e"
      },
      "execution_count": null,
      "outputs": [
        {
          "output_type": "stream",
          "name": "stdout",
          "text": [
            "Model: \"sequential_8\"\n",
            "_________________________________________________________________\n",
            " Layer (type)                Output Shape              Param #   \n",
            "=================================================================\n",
            " lstm_8 (LSTM)               (None, 40)                27360     \n",
            "                                                                 \n",
            " dropout_23 (Dropout)        (None, 40)                0         \n",
            "                                                                 \n",
            " dense_31 (Dense)            (None, 40)                1640      \n",
            "                                                                 \n",
            " dense_32 (Dense)            (None, 20)                820       \n",
            "                                                                 \n",
            " dropout_24 (Dropout)        (None, 20)                0         \n",
            "                                                                 \n",
            " dense_33 (Dense)            (None, 10)                210       \n",
            "                                                                 \n",
            " dropout_25 (Dropout)        (None, 10)                0         \n",
            "                                                                 \n",
            " dense_34 (Dense)            (None, 8)                 88        \n",
            "                                                                 \n",
            "=================================================================\n",
            "Total params: 30,118\n",
            "Trainable params: 30,118\n",
            "Non-trainable params: 0\n",
            "_________________________________________________________________\n"
          ]
        }
      ]
    },
    {
      "cell_type": "code",
      "source": [
        "X_test.shape"
      ],
      "metadata": {
        "colab": {
          "base_uri": "https://localhost:8080/"
        },
        "id": "DT-765IQs3gf",
        "outputId": "6f1c8aca-3ecc-46d7-9f1d-3a5cd4e99cc2"
      },
      "execution_count": null,
      "outputs": [
        {
          "output_type": "execute_result",
          "data": {
            "text/plain": [
              "(253, 40, 130)"
            ]
          },
          "metadata": {},
          "execution_count": 157
        }
      ]
    },
    {
      "cell_type": "code",
      "source": [
        "loss, acc = loaded_model.evaluate(X_test, y_test)\n",
        "print(\"Restored model, accuracy: {:5.2f}%\".format(100*acc))"
      ],
      "metadata": {
        "id": "Da8SGTWv5gGY",
        "colab": {
          "base_uri": "https://localhost:8080/"
        },
        "outputId": "c0923ce9-c3ed-43af-c887-025495c4312f"
      },
      "execution_count": null,
      "outputs": [
        {
          "output_type": "stream",
          "name": "stdout",
          "text": [
            "8/8 [==============================] - 0s 19ms/step - loss: 1.0413 - acc: 0.7391\n",
            "Restored model, accuracy: 73.91%\n"
          ]
        }
      ]
    },
    {
      "cell_type": "markdown",
      "source": [
        "#GENERALIZATION?"
      ],
      "metadata": {
        "id": "uN-MWm0NuAgv"
      }
    },
    {
      "cell_type": "code",
      "source": [
        "happy_raw_audio, sr = librosa.load('/content/drive/MyDrive/Junior Year 2022-2023/Adv Topics in DS/Final Project/Test audio/Happy (Happy).wav')\n",
        "sad_raw_audio, sad_sr = librosa.load('/content/drive/MyDrive/Junior Year 2022-2023/Adv Topics in DS/Final Project/Test audio/Special (Sad).wav')\n",
        "angry_raw_audio, angry_sr = librosa.load('/content/drive/MyDrive/Junior Year 2022-2023/Adv Topics in DS/Final Project/Test audio/Enemy (Angry).wav')\n",
        "neutral_raw_audio, neutral_sr = librosa.load('/content/drive/MyDrive/Junior Year 2022-2023/Adv Topics in DS/Final Project/Test audio/Better Days (Neutral).wav')\n",
        "lofi_raw_audio, lofi_sr = librosa.load('/content/drive/MyDrive/Junior Year 2022-2023/Adv Topics in DS/Final Project/Test audio/Lofi.wav')"
      ],
      "metadata": {
        "id": "8XY84P-iuCJz"
      },
      "execution_count": null,
      "outputs": []
    },
    {
      "cell_type": "code",
      "source": [
        "happy_raw_audio"
      ],
      "metadata": {
        "colab": {
          "base_uri": "https://localhost:8080/"
        },
        "id": "2dg4yjlCxm1N",
        "outputId": "75e0643e-966a-4c5d-ddfb-f01ec0cabdd8"
      },
      "execution_count": null,
      "outputs": [
        {
          "output_type": "execute_result",
          "data": {
            "text/plain": [
              "array([-0.00644011, -0.00257234,  0.01248342, ...,  0.03373526,\n",
              "       -0.03461011,  0.03977384], dtype=float32)"
            ]
          },
          "metadata": {},
          "execution_count": 180
        }
      ]
    },
    {
      "cell_type": "code",
      "source": [
        "sad_raw_audio"
      ],
      "metadata": {
        "colab": {
          "base_uri": "https://localhost:8080/"
        },
        "id": "y1-sJ1FPxlhd",
        "outputId": "4d80cf2d-d2a3-4cc8-c624-993e68bf5384"
      },
      "execution_count": null,
      "outputs": [
        {
          "output_type": "execute_result",
          "data": {
            "text/plain": [
              "array([-0.09484233, -0.14728776, -0.11961937, ..., -0.28962845,\n",
              "       -0.3065028 ,  0.        ], dtype=float32)"
            ]
          },
          "metadata": {},
          "execution_count": 179
        }
      ]
    },
    {
      "cell_type": "code",
      "source": [
        "happy_cut = happy_raw_audio[round(0*sr,ndigits=None):round(3*sr,ndigits=None)]\n",
        "happy_mfcc = np.array([librosa.feature.mfcc(y=happy_cut, sr=sr, n_mfcc=40)])\n",
        "happy = np.array((happy_mfcc - np.mean(happy_mfcc))/(np.max(happy_mfcc)-np.min(happy_mfcc)))\n",
        "happy = happy/np.std(happy)\n",
        "\n",
        "sad_cut = sad_raw_audio[round(0*sad_sr,ndigits=None):round(3*sad_sr,ndigits=None)]\n",
        "sad_mfcc = np.array([librosa.feature.mfcc(y=sad_cut, sr=sad_sr, n_mfcc=40)])\n",
        "sad = np.array((sad_mfcc - np.mean(sad_mfcc))/(np.max(sad_mfcc)-np.min(sad_mfcc)))\n",
        "sad = sad/np.std(sad)\n",
        "\n",
        "angry_cut = angry_raw_audio[round(0*angry_sr,ndigits=None):round(3*angry_sr,ndigits=None)]\n",
        "angry_mfcc = np.array([librosa.feature.mfcc(y=angry_cut, sr=angry_sr, n_mfcc=40)])\n",
        "angry = np.array((angry_mfcc - np.mean(angry_mfcc))/(np.max(angry_mfcc)-np.min(angry_mfcc)))\n",
        "angry = angry/np.std(angry)\n",
        "\n",
        "neutral_cut = neutral_raw_audio[round(0*neutral_sr,ndigits=None):round(3*neutral_sr,ndigits=None)]\n",
        "neutral_mfcc = np.array([librosa.feature.mfcc(y=neutral_cut, sr=neutral_sr, n_mfcc=40)])\n",
        "neutral = np.array((neutral_mfcc - np.mean(neutral_mfcc))/(np.max(neutral_mfcc)-np.min(neutral_mfcc)))\n",
        "neutral = neutral/np.std(neutral)\n",
        "\n",
        "lofi_cut = lofi_raw_audio[round(0*lofi_sr,ndigits=None):round(3*lofi_sr,ndigits=None)]\n",
        "lofi_mfcc = np.array([librosa.feature.mfcc(y=lofi_cut, sr=lofi_sr, n_mfcc=40)])\n",
        "lofi = np.array((lofi_mfcc - np.mean(lofi_mfcc))/(np.max(lofi_mfcc)-np.min(lofi_mfcc)))\n",
        "lofi = lofi/np.std(lofi)\n"
      ],
      "metadata": {
        "colab": {
          "base_uri": "https://localhost:8080/",
          "height": 89
        },
        "id": "dimkzt4nvFKX",
        "outputId": "f27a015b-acbe-4b68-973a-b59baf2e7305"
      },
      "execution_count": null,
      "outputs": [
        {
          "output_type": "execute_result",
          "data": {
            "text/plain": [
              "'\\n\\n\\n\\nnp.mean(librosa.feature.mfcc(y=happy_raw_audio, sr = sr,n_mfcc=40).T,axis=0)\\nsad_mfcc = np.mean(librosa.feature.mfcc(y=sad_raw_audio, sr = sad_sr,n_mfcc=40).T,axis=0)\\nangry_mfcc = np.mean(librosa.feature.mfcc(y=angry_raw_audio, sr=angry_sr,n_mfcc=40).T,axis=0)\\nneutral_mfcc = np.mean(librosa.feature.mfcc(y=neutral_raw_audio, sr=neutral_sr,n_mfcc=40).T,axis=0)\\nlofi_mfcc = np.mean(librosa.feature.mfcc(y=lofi_raw_audio, sr=lofi_sr,n_mfcc=40).T,axis=0)\\n'"
            ],
            "application/vnd.google.colaboratory.intrinsic+json": {
              "type": "string"
            }
          },
          "metadata": {},
          "execution_count": 209
        }
      ]
    },
    {
      "cell_type": "code",
      "source": [
        "pred_happy = np.argmax(loaded_model.predict(happy))\n",
        "pred_sad = np.argmax(loaded_model.predict(sad))\n",
        "pred_angry = np.argmax(loaded_model.predict(angry))\n",
        "pred_neutral = np.argmax(loaded_model.predict(neutral))\n",
        "pred_lofi = np.argmax(loaded_model.predict(lofi))"
      ],
      "metadata": {
        "colab": {
          "base_uri": "https://localhost:8080/"
        },
        "id": "VMSEhdaCwM6T",
        "outputId": "7e3371f4-93e2-48a3-8478-59459dfe9f23"
      },
      "execution_count": null,
      "outputs": [
        {
          "output_type": "stream",
          "name": "stdout",
          "text": [
            "1/1 [==============================] - 0s 22ms/step\n",
            "1/1 [==============================] - 0s 28ms/step\n",
            "1/1 [==============================] - 0s 19ms/step\n",
            "1/1 [==============================] - 0s 21ms/step\n",
            "1/1 [==============================] - 0s 19ms/step\n"
          ]
        }
      ]
    },
    {
      "cell_type": "code",
      "source": [
        "print(pred_happy, pred_sad, pred_angry, pred_neutral, pred_lofi)"
      ],
      "metadata": {
        "colab": {
          "base_uri": "https://localhost:8080/"
        },
        "id": "slRLK-09wS7S",
        "outputId": "721267a9-40b0-4641-b12c-da3126914ed6"
      },
      "execution_count": null,
      "outputs": [
        {
          "output_type": "stream",
          "name": "stdout",
          "text": [
            "2 1 2 2 5\n"
          ]
        }
      ]
    },
    {
      "cell_type": "code",
      "source": [
        "loaded_model.predict(sad)"
      ],
      "metadata": {
        "colab": {
          "base_uri": "https://localhost:8080/"
        },
        "id": "9ua78PKAwcRS",
        "outputId": "99a7d2db-c1b1-454c-ec03-b4d585d5fe85"
      },
      "execution_count": null,
      "outputs": [
        {
          "output_type": "stream",
          "name": "stdout",
          "text": [
            "1/1 [==============================] - 0s 22ms/step\n"
          ]
        },
        {
          "output_type": "execute_result",
          "data": {
            "text/plain": [
              "array([[2.4102778e-06, 6.2829053e-01, 4.6357731e-05, 2.0346430e-05,\n",
              "        2.6045233e-01, 1.0364948e-01, 7.5184084e-03, 2.0073479e-05]],\n",
              "      dtype=float32)"
            ]
          },
          "metadata": {},
          "execution_count": 201
        }
      ]
    },
    {
      "cell_type": "code",
      "source": [
        "loaded_model.predict(happy)"
      ],
      "metadata": {
        "colab": {
          "base_uri": "https://localhost:8080/"
        },
        "id": "6zvMKsDixAFA",
        "outputId": "81c3eb0e-e0a5-4d3c-a32e-c3f63ed455d0"
      },
      "execution_count": null,
      "outputs": [
        {
          "output_type": "stream",
          "name": "stdout",
          "text": [
            "1/1 [==============================] - 0s 23ms/step\n"
          ]
        },
        {
          "output_type": "execute_result",
          "data": {
            "text/plain": [
              "array([[0.00259942, 0.01788986, 0.25543907, 0.04647132, 0.13808411,\n",
              "        0.31744003, 0.2159504 , 0.00612583]], dtype=float32)"
            ]
          },
          "metadata": {},
          "execution_count": 176
        }
      ]
    },
    {
      "cell_type": "code",
      "source": [
        "loaded_model.predict(angry)"
      ],
      "metadata": {
        "colab": {
          "base_uri": "https://localhost:8080/"
        },
        "id": "VpeA9lfMxM3f",
        "outputId": "e374d309-4d6b-4e67-8920-19bf82e7b1b5"
      },
      "execution_count": null,
      "outputs": [
        {
          "output_type": "stream",
          "name": "stdout",
          "text": [
            "1/1 [==============================] - 0s 28ms/step\n"
          ]
        },
        {
          "output_type": "execute_result",
          "data": {
            "text/plain": [
              "array([[0.00259942, 0.01788986, 0.25543907, 0.04647132, 0.13808411,\n",
              "        0.31744003, 0.2159504 , 0.00612583]], dtype=float32)"
            ]
          },
          "metadata": {},
          "execution_count": 182
        }
      ]
    },
    {
      "cell_type": "code",
      "source": [
        "loaded_model.predict(neutral)"
      ],
      "metadata": {
        "colab": {
          "base_uri": "https://localhost:8080/"
        },
        "id": "EHid7d9sx7gs",
        "outputId": "28bd505a-0e3f-4596-c022-a98e703924e8"
      },
      "execution_count": null,
      "outputs": [
        {
          "output_type": "stream",
          "name": "stdout",
          "text": [
            "1/1 [==============================] - 0s 23ms/step\n"
          ]
        },
        {
          "output_type": "execute_result",
          "data": {
            "text/plain": [
              "array([[1.3955032e-05, 1.7569391e-05, 7.9397947e-01, 1.9348472e-01,\n",
              "        1.1323404e-02, 2.6019782e-04, 8.9374318e-04, 2.6938744e-05]],\n",
              "      dtype=float32)"
            ]
          },
          "metadata": {},
          "execution_count": 212
        }
      ]
    },
    {
      "cell_type": "code",
      "source": [
        "loaded_model.predict(lofi)"
      ],
      "metadata": {
        "colab": {
          "base_uri": "https://localhost:8080/"
        },
        "id": "Y2Ebp27d71iP",
        "outputId": "72882887-344b-4542-8b37-e16a8d875b5e"
      },
      "execution_count": null,
      "outputs": [
        {
          "output_type": "stream",
          "name": "stdout",
          "text": [
            "1/1 [==============================] - 0s 30ms/step\n"
          ]
        },
        {
          "output_type": "execute_result",
          "data": {
            "text/plain": [
              "array([[5.5104996e-05, 1.2799607e-01, 1.6057213e-03, 1.3529358e-04,\n",
              "        1.1308238e-01, 6.8359101e-01, 7.3312066e-02, 2.2231980e-04]],\n",
              "      dtype=float32)"
            ]
          },
          "metadata": {},
          "execution_count": 213
        }
      ]
    },
    {
      "cell_type": "code",
      "source": [
        "g = loaded_model.predict(angry)\n",
        "print(g)\n",
        "g = g.argsort()\n",
        "g"
      ],
      "metadata": {
        "colab": {
          "base_uri": "https://localhost:8080/"
        },
        "id": "nxAFDAyB8DV-",
        "outputId": "35df918f-e77a-4713-b4e2-6974c8078e2c"
      },
      "execution_count": null,
      "outputs": [
        {
          "output_type": "stream",
          "name": "stdout",
          "text": [
            "1/1 [==============================] - 0s 31ms/step\n",
            "[[0.01270175 0.01267173 0.47979692 0.2599134  0.10442109 0.0522968\n",
            "  0.06345907 0.01473931]]\n"
          ]
        },
        {
          "output_type": "execute_result",
          "data": {
            "text/plain": [
              "array([[1, 0, 7, 5, 6, 4, 3, 2]])"
            ]
          },
          "metadata": {},
          "execution_count": 216
        }
      ]
    }
  ]
}